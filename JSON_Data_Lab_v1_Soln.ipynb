{
 "cells": [
  {
   "cell_type": "markdown",
   "metadata": {
    "collapsed": false,
    "jupyter": {
     "outputs_hidden": false
    },
    "pycharm": {
     "name": "#%% md\n"
    }
   },
   "source": [
    "# Ingesting JSON Files in Python\n",
    "## Introduction\n",
    "Now that you have worked through the JSON intro lab it is time to try\n",
    " your hand parsing another file.  In this lab you are to open and parse\n",
    " the reviews.json data file.\n",
    "\n",
    "The reviews.json file contains product reviews (fictitious) from a web\n",
    " site.  Each review has the following JSON format.\n",
    "```\n",
    "  {\n",
    "    \"userId\": 1,\n",
    "    \"id\": 1,\n",
    "    \"title\": \"sunt aut facere repellat provident occaecati excepturi optio reprehenderit\",\n",
    "    \"body\": \"quia et suscipit\\nsuscipit recusandae consequuntur\n",
    " expedita et cum\\nreprehenderit molestiae ut ut quas totam\\nnostrum\n",
    " rerum est autem sunt rem eveniet architecto\"\n",
    "  }\n",
    "```\n",
    "You may/should model your approach after our JSON into solution.  When\n",
    " that is not enough, use the documentation to determine an appropriate\n",
    " course of action. to https://docs.python.org/3/library/json.html\n",
    "\n",
    "## Tasks\n",
    "1. Use the json module to deserialize the data\n",
    "2. Determine which users have completed the most reviews?\n",
    "3. Create a JSON file that contains the reviews for each user who\n",
    " has completed the maximum number of reviews.\n",
    "4. Which review(s) (by Id) has the longest review in terms of the\n",
    " number of characters?\n",
    "5. Are there any duplicate titles?  If so how many?"
   ]
  },
  {
   "cell_type": "code",
   "execution_count": null,
   "metadata": {
    "collapsed": false,
    "jupyter": {
     "outputs_hidden": false
    },
    "pycharm": {
     "name": "#%%\n"
    }
   },
   "outputs": [],
   "source": [
    "import json\n",
    "\n",
    "# Read about the 'with in' context manager the CSV intro lab\n",
    "#\n",
    "with open('reviews.json', 'r') as read_file:\n",
    "    # Since the root of the JSON data is an array\n",
    "    # load() will return a python list\n",
    "    reviews = json.load(read_file)\n",
    "\n",
    "# Create a dictionary (empty) to map userId to number of completed reviews for that user\n",
    "reviews_by_user = {}\n",
    "\n",
    "# Create a list (empty) to keep track of review with most text\n",
    "max_text_list = []\n",
    "max_review_len = 0\n",
    "\n",
    "# Lists are iterable so we can loop over the data returned open\n",
    "# Increment completed reviews count for each user.\n",
    "#\n",
    "for review in reviews:\n",
    "    # review will be a dictionary- make sure you understand why that is the case!\n",
    "    # capture the review's userId\n",
    "    userId = review[\"userId\"]\n",
    "\n",
    "    # Using dict.get(), check to see if we have already added this userId\n",
    "    # to our dictionary.  If so, increment the existing count\n",
    "    # If not, add the user setting their completed toto count to 1\n",
    "    reviews_by_user[ userId ] = reviews_by_user.get(userId, 0) + 1\n",
    "\n",
    "    # now, see if the character count of this review exceeds\n",
    "    # the char count of the prior longest review.  Using a list\n",
    "    # approach allows us to capture more than one review should\n",
    "    # there be a tie in the counts.\n",
    "\n",
    "    # NOTE: Python has a sizeable number of built in functions (see https://docs.python.org/3/library/functions.html)\n",
    "    # Most of those functions are wrappers that are really calling so called \"dunder\" methods.\n",
    "    # They are called dunder as slang for double underscore (ex: __len__).\n",
    "    #\n",
    "    # So, for example for ANY object to work with the \"len\" protocol it\n",
    "    # simply must implement the __len__ method.  The same is true for all other functions that are wrappers for methods.\n",
    "    # That is, they must comply with a \"protocol\" defined/required for an object to support that function.\n",
    "    #\n",
    "    # So len([1,2,3]) is 100% equivalent to [1,2,3].__len__()\n",
    "    # Keep in mind, it is taboo (normally) to directly invoke dunder methods\n",
    "    #\n",
    "    # Want to understand the polymorphism philosophy of Python?  Read about \"duck typing\" (quack...)\n",
    "    # https://en.wikipedia.org/wiki/Duck_typing\n",
    "    # https://hackernoon.com/python-duck-typing-or-automatic-interfaces-73988ec9037f\n",
    "    #\n",
    "    body_len = len(review[\"body\"])\n",
    "    if body_len >= max_review_len:\n",
    "        max_review_len = body_len\n",
    "        max_text_list.append( review['id'] )\n",
    "\n",
    "# Get the maximum number of complete reviews.\n",
    "# values() returns the key-value pairs of the dictionary.\n",
    "# you guessed it, the object returned is an iterable.\n",
    "# max() essentially loops over the iterable to find the max value.\n",
    "max_complete = max( reviews_by_user.values() )\n",
    "\n",
    "# Create a list of all users who have completed the maximum number of reviews.\n",
    "users = [u for u, v in reviews_by_user.items() if v == max_complete]\n",
    "\n",
    "# Display the results\n",
    "print(f\"User(s) {users} completed {max_complete} reviews\")\n",
    "\n",
    "# Display the max review text counts\n",
    "print(f'The longest review was {max_review_len}')\n",
    "print(f'\\tThis ocurred {len(max_text_list)} times.')\n",
    "print(f'\\tThis count was observed for the following review Ids - {max_text_list}')"
   ]
  },
  {
   "cell_type": "code",
   "execution_count": null,
   "metadata": {
    "collapsed": false,
    "jupyter": {
     "outputs_hidden": false
    },
    "pycharm": {
     "name": "#%%\n"
    }
   },
   "outputs": [],
   "source": [
    "# Task: Create a JSON file that contains the completed reviews for each of the users\n",
    "# who completed the maximum number of reviews.\n",
    "\n",
    "# Write filtered reviews to file.\n",
    "# Eliminate the users from reviews who are not in the users list previously created\n",
    "#\n",
    "# List comprehension approach to find all reviews from users have the max number of reviews\n",
    "filtered_reviews = [ review for review in reviews if review['userId'] in users ]\n",
    "\n",
    "with open('filtered_reviews.json', 'w') as data_file:\n",
    "    json.dump(filtered_reviews, data_file, indent=2)"
   ]
  }
 ],
 "metadata": {
  "kernelspec": {
   "display_name": "Python 3 (ipykernel)",
   "language": "python",
   "name": "python3"
  },
  "language_info": {
   "codemirror_mode": {
    "name": "ipython",
    "version": 3
   },
   "file_extension": ".py",
   "mimetype": "text/x-python",
   "name": "python",
   "nbconvert_exporter": "python",
   "pygments_lexer": "ipython3",
   "version": "3.10.12"
  }
 },
 "nbformat": 4,
 "nbformat_minor": 4
}
