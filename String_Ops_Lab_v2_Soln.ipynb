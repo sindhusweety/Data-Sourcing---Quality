{
 "cells": [
  {
   "cell_type": "markdown",
   "metadata": {
    "pycharm": {
     "name": "#%% md\n"
    }
   },
   "source": [
    "# Text Sequence Manipulation – Python String Operations\n",
    "\n",
    "## Introduction\n",
    "Complete all of the exercises in this document using only Python str methods.  Do not use regular expressions.\n",
    "\n",
    "## Text Manipulation – Low Level of Difficulty\n",
    "For each exercise below, author a function that performs the explicated activity.\n",
    "All of your functions can appear in a single code cell. You may name your functions as you see fit; however,\n",
    "the function annotation information must be observed.  Replace the FxNm function name placeholder with a\n",
    "function name of your choosing."
   ]
  },
  {
   "cell_type": "markdown",
   "metadata": {
    "pycharm": {
     "name": "#%% md\n"
    }
   },
   "source": [
    "1. Function Annotation: FxNm( input: str ) -> dict\n",
    "\n",
    "Write a Python program to count the number of characters (character frequency) in a string.\n",
    "```\n",
    "Sample String: ‘google.com'\n",
    "Expected Result : {'o': 3, 'g': 2, '.': 1, 'e': 1, 'l': 1, 'm': 1, 'c': 1}\n",
    "```"
   ]
  },
  {
   "cell_type": "code",
   "execution_count": null,
   "metadata": {
    "pycharm": {
     "name": "#%%\n"
    }
   },
   "outputs": [],
   "source": [
    "# Char Freq\n",
    "def char_frequency(str1: str) -> dict:\n",
    "    dict = {}\n",
    "    for n in str1:\n",
    "\n",
    "        if n not in dict:\n",
    "            dict[n] = 1\n",
    "        else:\n",
    "            dict[n] + 1\n",
    "\n",
    "        # The above 'if' could/should be replaced with\n",
    "        #dict[n] = dict.get(n,0) + 1\n",
    "\n",
    "    return dict\n",
    "\n",
    "print('***Count Character Frequency:')\n",
    "print(char_frequency('google.com'))"
   ]
  },
  {
   "cell_type": "markdown",
   "metadata": {
    "pycharm": {
     "name": "#%% md\n"
    }
   },
   "source": [
    "2. Function Annotation: FxNm( input: str ) -> str\n",
    "\n",
    "Write a Python program to return a string from a given string where all occurrences of its first char have been\n",
    "changed to '$', except the first char itself.\n",
    "```\n",
    "Sample String : 'restart'\n",
    "Expected Result : 'resta$t'\n",
    "```"
   ]
  },
  {
   "cell_type": "code",
   "execution_count": 7,
   "metadata": {
    "pycharm": {
     "name": "#%%\n"
    }
   },
   "outputs": [
    {
     "name": "stdout",
     "output_type": "stream",
     "text": [
      "***Change matching 1st chars to $:\n",
      "resta$t\n",
      "resta$t\n"
     ]
    }
   ],
   "source": [
    "# First char to $\n",
    "def change_char(str1: str)->str:\n",
    "    # Using slice.\n",
    "    # remember that strings are immutable so, .replace() returns\n",
    "    # a new string where all occurrences of the character at [0] are replaced with $\n",
    "    return str1[0] + str1[1:].replace(str1[0], '$')\n",
    "\n",
    "def change_char_more_verbose(str1: str)->str:\n",
    "  first_char = str1[0]\n",
    "  str2 = str1[1:].replace(first_char, '$')\n",
    "  return first_char + str2\n",
    "\n",
    "\n",
    "print('***Change matching 1st chars to $:')\n",
    "print(change_char('restart'))\n",
    "print(change_char_more_verbose('restart'))"
   ]
  },
  {
   "cell_type": "markdown",
   "metadata": {},
   "source": [
    "3. Function Annotation: FxNm( input: [str] ) -> int\n",
    "\n",
    "Write a Python function that takes a list of words and returns the length of the longest word."
   ]
  },
  {
   "cell_type": "code",
   "execution_count": 8,
   "metadata": {
    "pycharm": {
     "name": "#%%\n"
    }
   },
   "outputs": [
    {
     "name": "stdout",
     "output_type": "stream",
     "text": [
      "***Find longest word:\n",
      "9\n",
      "9\n"
     ]
    }
   ],
   "source": [
    "# longest word in list\n",
    "def find_longest_word(words_list: [str])->int:\n",
    "    # start with the assumption that the word at index 0 is the longest\n",
    "    long_str = words_list[0]\n",
    "    for word in words_list[1:]:\n",
    "        # if this word is longer than the current longest word,\n",
    "        # swap the words\n",
    "        if len(word) > len(long_str):\n",
    "            long_str = word\n",
    "    return len(long_str)\n",
    "\n",
    "def find_longest_word_2(words_list: [str])->int:\n",
    "    # read the docs on the key argument to max\n",
    "    # ie, help(max)\n",
    "\n",
    "    long_str = max(words_list, key=len)\n",
    "    return len(long_str)\n",
    "\n",
    "print('***Find longest word:')\n",
    "print(find_longest_word([\"PHP\", \"Exercises\", \"Backend\"]))\n",
    "print(find_longest_word_2([\"PHP\", \"Exercises\", \"Backend\"]))"
   ]
  },
  {
   "cell_type": "markdown",
   "metadata": {},
   "source": [
    "4. Function Annotation: FxNm( input: str ) -> str\n",
    "\n",
    "Write a Python program to remove the characters appearing at odd index values of a given string\n",
    "and return the resulting string.\n",
    "```\n",
    "Sample String:  restart\n",
    "Expected Result : rsat\n",
    "```"
   ]
  },
  {
   "cell_type": "code",
   "execution_count": null,
   "metadata": {
    "pycharm": {
     "name": "#%%\n"
    }
   },
   "outputs": [],
   "source": [
    "def odd_values_string(str:str)->str:\n",
    "    result = \"\"\n",
    "    for i,c in enumerate(str):\n",
    "        if i % 2 == 0:\n",
    "            result += c\n",
    "    return result\n",
    "\n",
    "print('***Remove chars at odd index values:')\n",
    "print(odd_values_string('restart'))"
   ]
  },
  {
   "cell_type": "markdown",
   "metadata": {},
   "source": [
    "5. Function Annotation: FxNm( input: str ) -> str\n",
    "\n",
    "Write a Python function to reverses a string if it's length is a multiple of 4 and returns resulting string.\n",
    "```\n",
    "Sample String : 'rest'\n",
    "Expected Result : 'tser'\n",
    "```"
   ]
  },
  {
   "cell_type": "code",
   "execution_count": 3,
   "metadata": {
    "pycharm": {
     "name": "#%%\n"
    }
   },
   "outputs": [
    {
     "name": "stdout",
     "output_type": "stream",
     "text": [
      "***Reverse modulo 4 strings\n",
      "tser\n",
      "***Reverse modulo 4 strings\n",
      "tser\n"
     ]
    }
   ],
   "source": [
    "# reverse multiples of 4\n",
    "def reverse_string(str1:str)->str:\n",
    "    if len(str1) % 4 == 0:\n",
    "       return reversed(str1)\n",
    "    return str1\n",
    "\n",
    "print('***Reverse modulo 4 strings')\n",
    "print(\"\".join(reverse_string('rest')))\n",
    "\n",
    "### ALTERNATIVE\n",
    "# reverse multiples of 4\n",
    "def reverse_string_too(str1:str)->str:\n",
    "    if len(str1) % 4 == 0:\n",
    "       return str1[::-1]\n",
    "    return str1\n",
    "\n",
    "print('***Reverse modulo 4 strings')\n",
    "print(\"\".join(reverse_string_too('rest')))"
   ]
  },
  {
   "cell_type": "markdown",
   "metadata": {},
   "source": [
    "6. Function Annotation: FxNm( input: str ) -> str\n",
    "\n",
    "Write a Python function to convert a given string to all uppercase if it contains at least 2 uppercase characters\n",
    "in the first 4 characters.  Return the result.\n",
    "```\n",
    "Sample String : 'reSTart'\n",
    "Expected Result : 'RESTART''\n",
    "```"
   ]
  },
  {
   "cell_type": "code",
   "execution_count": null,
   "metadata": {
    "pycharm": {
     "name": "#%%\n"
    }
   },
   "outputs": [],
   "source": [
    "# To uppercase\n",
    "def to_uppercase(str1:str)->str:\n",
    "    num_upper = 0\n",
    "    for letter in str1[:4]:\n",
    "        if letter.isupper():\n",
    "            num_upper += 1\n",
    "\n",
    "    if num_upper >= 2:\n",
    "        return str1.upper()\n",
    "    return str1\n",
    "\n",
    "# To uppercase\n",
    "def to_uppercase_2(str1):\n",
    "    # The following []'d code is a list comprehension.\n",
    "    # See - https://docs.python.org/3/tutorial/datastructures.html#list-comprehensions\n",
    "    #\n",
    "    ul = [c for c in str1[:4] if c.isupper()]\n",
    "    return str1 if len(ul) < 2 else str1.upper()\n",
    "\n",
    "print('***Convert to UC is 2 UC in 1st four chars')\n",
    "print(to_uppercase('reSTart'))\n",
    "print(to_uppercase_2('reSTart'))"
   ]
  },
  {
   "cell_type": "markdown",
   "metadata": {},
   "source": [
    "7. Function Annotation: FxNm( input: str, input: int) -> str\n",
    "\n",
    "Write a Python program to create a Caesar encryption.\n",
    "Note : In cryptography, a Caesar cipher, also known as Caesar's cipher, the shift cipher,\n",
    "Caesar's code or Caesar shift, is one of the simplest and most widely known encryption techniques.\n",
    "It is a type of substitution cipher in which each letter in the plaintext is replaced by a letter\n",
    "some fixed number of positions down the alphabet. For example, with a shift of 2, D would be\n",
    "replaced by F, E would become G, and so on. The method is named after Julius Caesar, who used\n",
    "it in his private correspondence.\n",
    "```\n",
    "Sample Input : ‘abc’, 2\n",
    "Expected Result : cde\n",
    "```"
   ]
  },
  {
   "cell_type": "code",
   "execution_count": 13,
   "metadata": {
    "pycharm": {
     "name": "#%%\n"
    }
   },
   "outputs": [
    {
     "name": "stdout",
     "output_type": "stream",
     "text": [
      "***Caesar cipher\n",
      "\tabc=>cde\n"
     ]
    }
   ],
   "source": [
    "# the string module includes some 'letter' oriented\n",
    "# class variables.  string.ascii_lowercase is the list of\n",
    "# ascii alpha chars.  Either of the following lines works\n",
    "# to create a string of 26 LC ascii letters.\n",
    "# Use the 'constant value' naming convention of UPPERCASE variable name\n",
    "#\n",
    "from string import ascii_lowercase\n",
    "A_STR = ascii_lowercase\n",
    "# OR\n",
    "# A_STR = 'abcdefghijklmnopqrstuvwxyz'\n",
    "\n",
    "def caesar_encrypt(real_text:str, step:int)->str:\n",
    "\tanswer = ''\n",
    "\n",
    "\tfor c in real_text:\n",
    "\t\t# leave non-alpha characters alone\n",
    "\t\tif c.isalpha():\n",
    "\t\t\t# c may or may not already be lc.  But A_STR is all lc.\n",
    "\t\t\tindex = A_STR.index(c.lower())\n",
    "            # modulo (%) 26 allows the index values to wrap around from say 'z' to 'b'\n",
    "            # if the step value were 2.  Think about it...\n",
    "\t\t\tcrypt_idx = (index + step) % 26\n",
    "\n",
    "\t\t\t# uc letters should have their cipher letter equiv returned as uc.\n",
    "\t\t\t# Ternary operator interpretation:\n",
    "\t\t\t# set x to y if x is lowercase otherwise set x to uppercase y\n",
    "\n",
    "\t\t\t# The following line is Python's version of a ternary operator. Equiv to:\n",
    "\t\t\t# if c.islower():\n",
    "\t\t\t# \tcrypt_c = A_STR[crypt_idx]\n",
    "\t\t\t# else:\n",
    "\t\t\t# \t crypt_c = A_STR[crypt_idx].upper()\n",
    "\t\t\tcrypt_c = A_STR[crypt_idx] if c.islower() else A_STR[crypt_idx].upper()\n",
    "\t\telse:\n",
    "            # characters that are not letter (not isalpha()) are not shifted. They\n",
    "            # are used as is\n",
    "\t\t\tcrypt_c = c\n",
    "\n",
    "\t\tanswer += crypt_c\n",
    "\n",
    "\treturn answer\n",
    "\n",
    "print('***Caesar cipher')\n",
    "s = caesar_encrypt('abc', 2)\n",
    "print(f'\\tabc=>{s}')\n"
   ]
  },
  {
   "cell_type": "markdown",
   "metadata": {},
   "source": [
    "8. Function Annotation: FxNm( input: str) -> str\n",
    "\n",
    "Write a Python program to remove existing indentation from a given string. You may assume that only\n",
    "a space (' ') and tab (\\t) characters are used for indentation.  Return the resulting string.\n",
    "```\n",
    "Sample String : ‘   abc’\n",
    "Expected Result : ‘abc’\n",
    "```"
   ]
  },
  {
   "cell_type": "code",
   "execution_count": 2,
   "metadata": {
    "pycharm": {
     "name": "#%%\n"
    }
   },
   "outputs": [
    {
     "name": "stdout",
     "output_type": "stream",
     "text": [
      "***text_without_Indentation\n",
      "Sample:\n",
      "\n",
      "    Python is a widely used high-level, general-purpose, interpreted,\n",
      "    dynamic programming language. Its design philosophy emphasizes\n",
      "    code readability, and its syntax allows programmers to express\n",
      "    concepts in fewer lines of code than possible in languages such\n",
      "    as C++ or Java.\n",
      "    \n",
      "Soln:\n",
      "\n",
      "Python is a widely used high-level, general-purpose, interpreted,\n",
      "dynamic programming language. Its design philosophy emphasizes\n",
      "code readability, and its syntax allows programmers to express\n",
      "concepts in fewer lines of code than possible in languages such\n",
      "as C++ or Java.\n",
      "\n",
      "\n"
     ]
    }
   ],
   "source": [
    "# remove indentation\n",
    "\n",
    "def remove_indent(text: str) -> str:\n",
    "    ans_str = ''\n",
    "    for l in text.split('\\n'):\n",
    "        l = l.lstrip()\n",
    "        # add back newlines\n",
    "        ans_str += f'{l}\\n'\n",
    "    return ans_str\n",
    "\n",
    "print('***text_without_Indentation')\n",
    "sample_text = '''\n",
    "    Python is a widely used high-level, general-purpose, interpreted,\n",
    "    dynamic programming language. Its design philosophy emphasizes\n",
    "    code readability, and its syntax allows programmers to express\n",
    "    concepts in fewer lines of code than possible in languages such\n",
    "    as C++ or Java.\n",
    "    '''\n",
    "s=remove_indent(sample_text)\n",
    "print(f'Sample:\\n{sample_text}')\n",
    "print(f'Soln:\\n{s}')"
   ]
  },
  {
   "cell_type": "markdown",
   "metadata": {},
   "source": [
    "9. Function Annotation: FxNm( input: str, input: str) -> str\n",
    "\n",
    "Write a Python program to strip the set of provided characters from a string.  Return the resulting string.\n",
    "```\n",
    "Sample Input : ‘abc’, ‘ac’\n",
    "Expected Result : ‘b’\n",
    "```"
   ]
  },
  {
   "cell_type": "code",
   "execution_count": 15,
   "metadata": {
    "pycharm": {
     "name": "#%%\n"
    }
   },
   "outputs": [
    {
     "name": "stdout",
     "output_type": "stream",
     "text": [
      "***Strip characters from string\n",
      "String vowels from => The quick brown fox jumps over the lazy dog.\n",
      "Th qck brwn fx jmps vr th lzy dg.\n",
      "Th qck brwn fx jmps vr th lzy dg.\n",
      "Th qck brwn fx jmps vr th lzy dg.\n"
     ]
    }
   ],
   "source": [
    "def strip_chars(str1:str, chars:str) -> str:\n",
    "    return ''.join([c for c in str1 if c not in chars])\n",
    "\n",
    "def strip_chars_verbose(str1:str, chars:str) -> str:\n",
    "    answer = ''\n",
    "    for c in str1:\n",
    "        if c not in chars:\n",
    "            answer += c\n",
    "\n",
    "    return answer\n",
    "\n",
    "def strip_chars_worse(str1:str, chars:str) -> str:\n",
    "    answer = str1\n",
    "    for c in chars:\n",
    "        answer = answer.replace(c,'')\n",
    "    return answer\n",
    "\n",
    "print(\"***Strip characters from string\")\n",
    "s = \"The quick brown fox jumps over the lazy dog.\"\n",
    "print(f'String vowels from => {s}')\n",
    "print(strip_chars(\"The quick brown fox jumps over the lazy dog.\", \"aeiou\"))\n",
    "print(strip_chars_verbose(\"The quick brown fox jumps over the lazy dog.\", \"aeiou\"))\n",
    "print(strip_chars_worse(\"The quick brown fox jumps over the lazy dog.\", \"aeiou\"))"
   ]
  },
  {
   "cell_type": "markdown",
   "metadata": {},
   "source": [
    "10. Function Annotation: FxNm( input: str ) -> dict\n",
    "\n",
    "Write a Python program to count repeated characters in a string. Return a dictionary where the\n",
    "keys are the repeated characters and the values are the count.\n",
    "```\n",
    "Sample string: 'thequickbrownfoxjumpsoverthelazydog'\n",
    "Expected output: {o: 4, e: 3, u: 2, h: 2, r: 2, t: 2}\n",
    "```"
   ]
  },
  {
   "cell_type": "code",
   "execution_count": 16,
   "metadata": {
    "pycharm": {
     "name": "#%%\n"
    }
   },
   "outputs": [
    {
     "name": "stdout",
     "output_type": "stream",
     "text": [
      "***Count Repeated Characters:\n",
      "\t{'t': 2, 'h': 2, 'e': 3, 'u': 2, 'r': 2, 'o': 4}\n",
      "\t{'t': 2, 'h': 2, 'e': 3, 'u': 2, 'r': 2, 'o': 4}\n"
     ]
    }
   ],
   "source": [
    "def count_repeated(in_str:str) -> dict:\n",
    "    ans_dict = {}\n",
    "    for c in in_str:\n",
    "        # get() method is similar to using [] to access values for key with\n",
    "        # one major difference. get() allows for a 2nd argument which is returned\n",
    "        # if the key does not exist in the dictionary.\n",
    "        ans_dict[c] = ans_dict.get(c,0) + 1\n",
    "\n",
    "    # The following {}'d code is a dictionary comprehension.\n",
    "    # See - https://www.datacamp.com/community/tutorials/python-dictionary-comprehension\n",
    "\n",
    "    return {c:v for c,v in ans_dict.items() if v > 1}\n",
    "\n",
    "# count repeated chars\n",
    "def count_repeated_2(in_str:str) -> dict:\n",
    "    # Counter class is provided by the collections module\n",
    "    # to support convenient and rapid tallies.\n",
    "    from collections import Counter\n",
    "    return {c:v for c,v in Counter(in_str).items() if v > 1}\n",
    "\n",
    "print('***Count Repeated Characters:')\n",
    "d = count_repeated('thequickbrownfoxjumpsoverthelazydog')\n",
    "print(f'\\t{d}')\n",
    "d = count_repeated_2('thequickbrownfoxjumpsoverthelazydog')\n",
    "print(f'\\t{d}')"
   ]
  },
  {
   "cell_type": "markdown",
   "metadata": {},
   "source": [
    "11. Function Annotation: FxNm( input: str ) -> bool\n",
    "\n",
    "Write a Python program to check if a string contains all letters of the alphabet.\n",
    "```\n",
    "Sample string: 'thequickbrownfoxjumpsoverthelazydog'\n",
    "Expected output: false\n",
    "```"
   ]
  },
  {
   "cell_type": "code",
   "execution_count": 11,
   "metadata": {
    "pycharm": {
     "name": "#%%\n"
    }
   },
   "outputs": [
    {
     "name": "stdout",
     "output_type": "stream",
     "text": [
      "***Contains all alphabet characters:\n",
      "Does The quick brown fox jumps over the lazy dog contain all alphabet characters? Answer - True.\n",
      "Does The quick brown fox jumps over the lazy dog contain all alphabet characters? Answer - True.\n"
     ]
    }
   ],
   "source": [
    "def contains_alphabet(istr: str) -> bool:\n",
    "    for c in ascii_lowercase:\n",
    "        if c not in istr:\n",
    "            return False\n",
    "    return True\n",
    "\n",
    "from string import ascii_lowercase\n",
    "def contains_alphabet_2(istr: str) -> bool:\n",
    "    # use set operations.  Set values will be unique.\n",
    "    # create set of alphabet\n",
    "    aset = set(ascii_lowercase)\n",
    "    iset = set(istr.lower())\n",
    "    return iset >= aset\n",
    "\n",
    "print('***Contains all alphabet characters:')\n",
    "istr = 'The quick brown fox jumps over the lazy dog'\n",
    "tf = contains_alphabet(istr)\n",
    "print(f'Does {istr} contain all alphabet characters? Answer - {tf}.')\n",
    "tf = contains_alphabet_2(istr)\n",
    "print(f'Does {istr} contain all alphabet characters? Answer - {tf}.')"
   ]
  },
  {
   "cell_type": "markdown",
   "metadata": {},
   "source": [
    "12. Function Annotation: FxNm( input: str ) -> str\n",
    "\n",
    "Write a Python program to swap comma and dot in a string. Return the resulting string.\n",
    "\n",
    "**Challenge:** try using the translate() and maketrans() methods of string.\n",
    "```\n",
    "Sample string: \"32.054,23\"\n",
    "Expected Output: \"32,054.23\"\n",
    "```"
   ]
  },
  {
   "cell_type": "code",
   "execution_count": null,
   "metadata": {
    "pycharm": {
     "name": "#%%\n"
    }
   },
   "outputs": [],
   "source": [
    "def swap_chars(text:str, c1:str, c2:str) -> str:\n",
    "    # make use of the translation capabilities of strings\n",
    "    translation_tbl = text.maketrans(c1+c2, c2+c1)\n",
    "    answer = text.translate(translation_tbl)\n",
    "    return answer\n",
    "\n",
    "print('***Swap commas and dots')\n",
    "i = '32.054,23'\n",
    "s = swap_chars(i, '.', ',')\n",
    "print(f'Swapped .s and ,s in {i} => {s}')"
   ]
  },
  {
   "cell_type": "markdown",
   "metadata": {},
   "source": [
    "13. Function Annotation: FxNm( input: str ) -> str\n",
    "\n",
    "Write a Python program to remove duplicate characters of a given string. Your solution should leave the\n",
    "1st occurrence and remove all subsequent occurrences.  Other than the removals, the order of the\n",
    "characters in the string should not be affected. Return the resulting string.\n",
    "```\n",
    "Sample string: \"32.054,23\"\n",
    "Expected Output: \"32.054,\"\n",
    "```"
   ]
  },
  {
   "cell_type": "code",
   "execution_count": null,
   "metadata": {
    "pycharm": {
     "name": "#%%\n"
    }
   },
   "outputs": [],
   "source": [
    "# remove dup chars\n",
    "#\n",
    "def remove_duplicate(str1):\n",
    "    # Relies on dictionary having unique keys\n",
    "    # multiple adds of same value to dict has no impact\n",
    "    # as of Py 3.7 dict key order is preserved - oddly, this is not true of sets\n",
    "    #\n",
    "    key_dict = {k:0 for k in str1}\n",
    "    return \"\".join(key_dict)\n",
    "\n",
    "print('***Remove duplicate characters')\n",
    "i = '32.054,23'\n",
    "s = remove_duplicate(i)\n",
    "print(f'Removed dup chars from {i} => {s}')"
   ]
  },
  {
   "cell_type": "markdown",
   "metadata": {},
   "source": [
    "14. Function Annotation: FxNm( input: str, input: str) -> str\n",
    "\n",
    "Write a Python program to create a string from two given strings by concatenating the characters that\n",
    "are not contained by both strings.  The characters from the 1st string should appear before the characters\n",
    "from the 2nd string. Return the resulting string.\n",
    "```\n",
    "Sample input: ‘0abcxyz’, ‘abcxyz1’\n",
    "Expected Output: ‘01’\n",
    "```"
   ]
  },
  {
   "cell_type": "code",
   "execution_count": 10,
   "metadata": {
    "pycharm": {
     "name": "#%%\n"
    }
   },
   "outputs": [
    {
     "name": "stdout",
     "output_type": "stream",
     "text": [
      "***Concatenating characters not in common\n",
      "Original Substrings:i 0abcxyz and abcxyz1\n",
      "Results: 10\n"
     ]
    }
   ],
   "source": [
    "def uncommon_chars_concat(s1, s2):\n",
    "    # Use the builtin python set datatype to find\n",
    "    # the relative complement of s1 in s2 (also called the set-theoretic difference)\n",
    "    # See - https://docs.python.org/3/library/stdtypes.html?highlight=set#set-types-set-frozenset\n",
    "    #\n",
    "    set1 = set(s1)\n",
    "    set2 = set(s2)\n",
    "    # rel compl of s2-s1. whats in s2 that's not in s1\n",
    "    s1 = set2-set1\n",
    "    # rel compl of s1-s2. whats in s1 that's not in s2\n",
    "    s2 = set1-set2\n",
    "\n",
    "    # the * is the expansion operator.  Essentially\n",
    "    # it extracts all of the values from the set\n",
    "    # FYI - * also works with lists. ** for dictionaries\n",
    "    # See https://treyhunner.com/2018/10/asterisks-in-python-what-they-are-and-how-to-use-them/\n",
    "    #\n",
    "    # Expand s1 and s2 into a tuple (light wt list)\n",
    "    return ''.join((*s1, *s2))\n",
    "\n",
    "print('***Concatenating characters not in common')\n",
    "s1 = '0abcxyz'\n",
    "s2 = 'abcxyz1'\n",
    "s3 = uncommon_chars_concat(s1, s2)\n",
    "print(f'Original Substrings:i {s1} and {s2}')\n",
    "print(f'Results: {s3}')"
   ]
  },
  {
   "cell_type": "markdown",
   "metadata": {},
   "source": [
    "## Text Manipulation – Moderate Level of Difficulty\n",
    "15. Function Annotation: FxNm( input: [str], input: str) -> list\n",
    "\n",
    "A researcher has gathered thousands of news articles. But she wants to focus her attention on articles including\n",
    "a specific word.  Your function must meet the following criteria\n",
    "\n",
    "Do not include documents where the keyword string shows up only as a part of a larger word.\n",
    "For example, if she were looking for the keyword “closed”, you would not include the string “enclosed.”\n",
    "She does not want you to distinguish upper case from lower case letters. So the phrase\n",
    "“Closed the case.” would be included when the keyword is “closed”\n",
    "Periods or commas should not affect what is matched. “It is closed.” would be included when the\n",
    "keyword is “closed”. You may assume that source document punctuation is limited to periods and commas only.\n",
    "Return a list of the index values into the original list for all documents containing the keyword.\n",
    "```\n",
    "Sample input: [ \"The Learn Python Challenge Casino.\",\n",
    "                           \"They bought a car while at the casino\",\n",
    "                           \"Casinoville\" ], ‘casino’\n",
    "Expected Output: [0, 1]\n",
    "```"
   ]
  },
  {
   "cell_type": "code",
   "execution_count": 23,
   "metadata": {
    "pycharm": {
     "name": "#%%\n"
    }
   },
   "outputs": [
    {
     "name": "stdout",
     "output_type": "stream",
     "text": [
      "[0, 1]\n",
      "[0, 1]\n"
     ]
    }
   ],
   "source": [
    "def word_search(doc_list: [str], keyword: str) -> list:\n",
    "    '''\n",
    "    Takes a list of documents (each document is a string) and a keyword.\n",
    "    Returns list of the index values into the original list for all documents\n",
    "    containing the keyword.\n",
    "    '''\n",
    "\n",
    "    result_list = []\n",
    "    lckw = keyword.lower()\n",
    "\n",
    "    for idx, doc in enumerate(doc_list):\n",
    "        # do a bunch of steps at once - lowercase, replace , and . and split words to a list\n",
    "        lst = doc.lower().replace(',',' ').replace('.',' ').split()\n",
    "        if lckw in lst:\n",
    "            result_list.append(idx)\n",
    "\n",
    "        # This application would be a good opportunity for a regular expression.\n",
    "\n",
    "    return result_list\n",
    "\n",
    "# This application would be a good opportunity for a regular expression.\n",
    "import re\n",
    "def word_search_re(doc_list: [str], keyword: str) -> list:\n",
    "    result_list = []\n",
    "\n",
    "    for idx, doc in enumerate(doc_list):\n",
    "        # use the keyword to construct an re\n",
    "        # Something new: combine f-string with r-string (ie, fr'{a}sdfasdf' or rf'{a}sdfasdf' - same diff)\n",
    "        m = re.search(fr'\\b{keyword}\\b', doc, flags=re.IGNORECASE)\n",
    "        if m:\n",
    "            result_list.append(idx)\n",
    "\n",
    "    return result_list\n",
    "\n",
    "\n",
    "doc_list = [\"The Learn Python Challenge Casino.\", \"They bought a car at the casino\", \"Casinoville\"]\n",
    "l = word_search(doc_list, 'casino')\n",
    "print(l)\n",
    "\n",
    "l = word_search_re(doc_list, 'casino')\n",
    "print(l)"
   ]
  },
  {
   "cell_type": "markdown",
   "metadata": {},
   "source": [
    "16. Function Annotation: FxNm( input: str ) -> str\n",
    "\n",
    "This function receives a (word/string) as a parameter. The objective of the function is to convert\n",
    "the incoming string to its \"Pig Latin\" equivalent and return the Pig Latin string.\n",
    "\n",
    "For our purposes, we will use the following as the rules for translation of a word into \"Pig Latin\":\n",
    "\n",
    "1. A word is a consecutive sequence of letters (a-z, A-Z) or apostrophes. You may assume that the input to\n",
    "the function will only be a single \"word\". Examples: Zebra , doesn't , apple\n",
    "2. If a word starts with a vowel, the Pig Latin version is the original word with \"way\" added to the end\n",
    "3. If a word starts with a consonant, or a series of consecutive consonants, the Pig Latin\n",
    "version transfers ALL consonants up to the first vowel to the end of the word, and adds \"ay\" to the end.\n",
    "4. The letter 'y' should be treated as a consonant if it is the first letter of a word,\n",
    "but treated as a vowel otherwise.\n",
    "5. If the original word is capitalized, the new Pig Latin version of the word should be capitalized\n",
    "in the first letter.  If the original capital letter was a consonant, and thus moved, it should not\n",
    "be capitalized once in its new location.\n",
    "\n",
    "### Steps\n",
    "1. Author your ‘ToPigLatin’ function\n",
    "2. Convert the following test data into a Python dictionary.\n",
    "\n",
    "Test Word (keys) | Pig Latin (values)\n",
    "-----------------|--------------------\n",
    "football | ootballfay\n",
    "Pittsburgh | Ittsburghpay\n",
    "Apple | Appleway\n",
    "oink | oinkway\n",
    "ontology | ontologyway\n",
    "yellow | ellowyay\n",
    "yttrium | iumyttray\n",
    "\n",
    "3. Iterate over the dictionary supplying the dictionary keys as arguments to your ToPigLatin function.\n",
    "4. Confirm your returned results against the dictionary values.\n",
    "5. Upon confirmation, display the test word and its Pig Latin translation via print\n"
   ]
  },
  {
   "cell_type": "code",
   "execution_count": 11,
   "metadata": {
    "pycharm": {
     "name": "#%%\n"
    }
   },
   "outputs": [
    {
     "name": "stdout",
     "output_type": "stream",
     "text": [
      "football => ootballfay\n",
      "Pittsburgh => Ittsburghpay\n",
      "Apple => Appleway\n",
      "oink => oinkway\n",
      "ontology => ontologyway\n",
      "yellow => ellowyay\n",
      "yttrium => iumyttray\n"
     ]
    }
   ],
   "source": [
    "# RE Pig Latin Converter Code\n",
    "VOWELS = 'aeiou'\n",
    "\n",
    "# TEST DATA\n",
    "test_dict = dict(\n",
    "    football = 'ootballfay',\n",
    "    Pittsburgh = 'Ittsburghpay',\n",
    "    Apple = 'Appleway',\n",
    "    oink = 'oinkway',\n",
    "    ontology = 'ontologyway',\n",
    "    yellow = 'ellowyay',\n",
    "    yttrium = 'iumyttray')\n",
    "\n",
    "# test boundary condition.  word that starts with\n",
    "# y but is followed by a consonant\n",
    "# yttrium - a silvery, malleable metallic element that is found in the same ores as other rare-earth elements\n",
    "\n",
    "def to_pig_latin(eng_word):\n",
    "\n",
    "    if len(eng_word) == 0:\n",
    "        raise ValueError(\"Input must contain characters.\")\n",
    "\n",
    "    # remember if I need to return title case word\n",
    "    if eng_word[0].isupper():\n",
    "        to_upper = True\n",
    "    else:\n",
    "        to_upper = False\n",
    "\n",
    "    # now, normalize the word to LC\n",
    "    eng_word = eng_word.lower()\n",
    "\n",
    "    # low hanging fruit\n",
    "    if eng_word[0] in VOWELS:\n",
    "        eng_word += 'way'\n",
    "        return eng_word.title() if to_upper else eng_word\n",
    "\n",
    "    # ok, word starts with consonant\n",
    "\n",
    "    cons_str = \"\"\n",
    "    for i,c in enumerate(eng_word):\n",
    "        if i == 0 and c == 'y':\n",
    "            cons_str += c\n",
    "        elif c not in (VOWELS + 'y'):\n",
    "            cons_str += c\n",
    "        else:\n",
    "            break\n",
    "    else:\n",
    "        raise ValueError(\"English words must contain a vowel.\")\n",
    "\n",
    "    new_word = eng_word[i:] + cons_str + 'ay'\n",
    "    return new_word.title() if to_upper else new_word\n",
    "\n",
    "# run the test data through the PL translation\n",
    "for k,v in test_dict.items():\n",
    "    pig = to_pig_latin(k)\n",
    "    if pig == v:\n",
    "        print(f'{k} => {pig}')\n",
    "    else:\n",
    "        print(f'Failure for Enlish word: {k}. {pig} should be {v}.')"
   ]
  }
 ],
 "metadata": {
  "kernelspec": {
   "display_name": "Python 3 (ipykernel)",
   "language": "python",
   "name": "python3"
  },
  "language_info": {
   "codemirror_mode": {
    "name": "ipython",
    "version": 3
   },
   "file_extension": ".py",
   "mimetype": "text/x-python",
   "name": "python",
   "nbconvert_exporter": "python",
   "pygments_lexer": "ipython3",
   "version": "3.11.3"
  }
 },
 "nbformat": 4,
 "nbformat_minor": 4
}
