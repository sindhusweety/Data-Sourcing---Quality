{
 "cells": [
  {
   "cell_type": "markdown",
   "metadata": {},
   "source": [
    "# ISYS613 - Data Sourcing and Quality\n",
    "## Exam 1 - Fall 2022\n",
    "\n",
    "## Instructions\n",
    "For this exam, you are being asked to complete several unrelated\n",
    "Python development activities. Each activity contains all of the information necessary to\n",
    "complete the activity. If you believe that an unstated assumption is required to complete the\n",
    "activity, please clarify your assumptions in the form of a comment.\n",
    "\n",
    "For each of the questions below. Craft your solution in the single code cell that immediately\n",
    "follows the question.\n",
    "\n",
    "### Use only python standard library modules and packages (i.e., no 3'd party packages such as Pandas)\n",
    "**You may use only python standard library modules** in the construction of your solutions.\n",
    "If a python library module is not cataloged on The Python Standard Library web\n",
    "page (https://docs.python.org/3.7/library/) then, you **may not use** the library module in\n",
    "your solutions. I.e., no 3'd party packages such as Pandas.\n",
    "\n",
    "### Solution Integrity\n",
    "This exam is open-book, open-note. That said, you are to complete this exam\n",
    "on your own.  Please do not discuss the exam with another individual.\n",
    "\n",
    "In general, one should not use concepts not yet covered in our course to complete the activities below.\n",
    "Similarly, do not use concepts you do not fully understand.  Translation - using a search engine\n",
    "to construct your solutions is tedious, error prone, and most importantly, does not \n",
    "demonstrate your ability to solve problems!"
   ]
  },
  {
   "cell_type": "markdown",
   "metadata": {},
   "source": [
    "## Question_1\n",
    "Open and examine, but do not edit, the data in the BaseballPlayersData.csv file.  The file contains UTF-16 encoded\n",
    "semi-colon (;) delimited data for over 1000 baseball players. Data for each player appears in the\n",
    "rows of the file.  The following attributes are available for each player:\n",
    "\n",
    "* name\n",
    "* team\n",
    "* position\n",
    "* inchheight\n",
    "* lbsweight,\n",
    "* age\n",
    "* 5 years of batting average data (batavg1, batavg2, batavg3, batavg4, batavg5).\n",
    "\n",
    "### Programming Tasks\n",
    "\n",
    "1. Using the csv python module, ingest the data from the BaseballPlayersData.csv file. Pay special\n",
    "attention to the field data. Although the CSV informational standard indicates that space characters\n",
    "appearing within a field are to be considered field data, in this case space characters should not be\n",
    "considered as part of the field data.  Do not alter the input file to resolve this issue.\n",
    "2. Which player by *name*, is the tallest (ie., greatest *inchheight*) and what is their height?\n",
    "You may assume player names are unique.\n",
    "3. Which player by *name* boasts the greatest 5 year batting average.  You may assume that each player\n",
    "has played the same number of games in each of the 5 years of their batting average\n",
    "data (ie, batavg1,..,batavg5) thus, making the \"average of averages\" a legitimate metric.\n",
    "You may also assume all players have 5 years of batting average data and that the\n",
    "values are interpretable as floating point numbers.\n",
    "\n",
    "Author your solutions for each of the above tasks in the following code-cell."
   ]
  },
  {
   "cell_type": "code",
   "execution_count": 52,
   "metadata": {
    "collapsed": false,
    "jupyter": {
     "outputs_hidden": false
    },
    "pycharm": {
     "name": "#%%\n"
    }
   },
   "outputs": [
    {
     "name": "stdout",
     "output_type": "stream",
     "text": [
      "The tallest player is Jon_Rauch with a height of 83 inches.\n",
      "The player with the highest 5-year batting average is Torii_Hunter with an average of 290.200.\n"
     ]
    }
   ],
   "source": [
    "import csv\n",
    "\n",
    "# TEST DATA\n",
    "in_file = './BaseballPlayersData.csv'\n",
    "\n",
    "\n",
    "#2 Which player by name, is the tallest (ie., greatest inchheight) and what is their height? \n",
    "def tallest_player(data):\n",
    "    max_height_player = max(data, key=lambda x: int(x['inchheight']))\n",
    "    return max_height_player['name'], int(max_height_player['inchheight'])\n",
    "\n",
    "#3 Which player by name boasts the greatest 5 year batting average.\n",
    "def highest_avg_player(data):\n",
    "    max_avg_player = max(data, key=lambda x: sum(float(x[f'batavg{i+1}']) for i in range(5)) / 5)\n",
    "    return max_avg_player['name'], (sum(float(max_avg_player[f'batavg{i+1}']) for i in range(5)) / 5)\n",
    "\n",
    "\n",
    "baseball_data = []\n",
    "\n",
    "#1 \n",
    "with open(in_file, mode='r', encoding='utf-16') as csv_file:\n",
    "    csv_reader = csv.DictReader(csv_file, skipinitialspace=True,  delimiter=';')\n",
    "    for row in csv_reader:\n",
    "        # Remove leading and trailing spaces from each field\n",
    "        cleaned_row = {key: value.strip() for key, value in row.items()}\n",
    "        baseball_data.append(cleaned_row)\n",
    "\n",
    "\n",
    "tallest_name, tallest_height = tallest_player(baseball_data)\n",
    "print(f\"The tallest player is {tallest_name} with a height of {tallest_height} inches.\")\n",
    "\n",
    "highest_avg_name, highest_avg = highest_avg_player(baseball_data)\n",
    "print(f\"The player with the highest 5-year batting average is {highest_avg_name} with an average of {highest_avg:.3f}.\")"
   ]
  },
  {
   "cell_type": "markdown",
   "metadata": {},
   "source": [
    "## Question_2\n",
    "Open and examine the data in the SpotifyAlbumTracks.XML file.  The file contains\n",
    "the UTF-8 encoded XML results of a Spotify API query requesting the tracks(songs) from a **single album from\n",
    "a single artist**.\n",
    "\n",
    "### Programming Tasks\n",
    "\n",
    "1. Using the *xml.etree.ElementTree* python standard library module, ingest the data from the\n",
    "XML input file.\n",
    "2. Author the code to find the *name* and *id* of the artist of the album. Note: these data\n",
    "values appear multiple times in the XML data. It matters not which occurrence you use to\n",
    "answer this question.\n",
    "3. Author the code to find the name of the track having the longest\n",
    "duration (ie, the largest *duration_ms* element)?\n",
    "\n",
    "Author your solutions for each of the above tasks in the following code-cell."
   ]
  },
  {
   "cell_type": "code",
   "execution_count": 53,
   "metadata": {
    "collapsed": false,
    "jupyter": {
     "outputs_hidden": false
    },
    "pycharm": {
     "name": "#%%\n"
    }
   },
   "outputs": [
    {
     "name": "stdout",
     "output_type": "stream",
     "text": [
      "Artist: Elvis Presley, ID: 43ZHCT0cAZBISjO8DG9PnE\n",
      "The longest track is 'That's When Your Heartaches Begin' with a duration of 201760 milliseconds.\n"
     ]
    }
   ],
   "source": [
    "import xml.etree.ElementTree as et\n",
    "\n",
    "\n",
    "# TEST DATA\n",
    "in_file = 'SpotifyAlbumTracks.XML'\n",
    "\n",
    "# Question 1: Using the xml.etree.ElementTree python standard library module, ingest the data from the XML input file.\n",
    "# Parse the XML file\n",
    "tree = et.parse(in_file)\n",
    "root = tree.getroot()\n",
    "\n",
    "# Question 2: Author the code to find the name and id of the artist of the album.\n",
    "artists_set = set()\n",
    "for track in root.findall(\".//track\"):\n",
    "    artist_element = track.find(\"artist\")\n",
    "    if artist_element is not None:\n",
    "        artist_name = artist_element.find(\"name\").text\n",
    "        artist_id = artist_element.find(\"id\").text\n",
    "        artists_set.add((artist_name, artist_id))\n",
    "\n",
    "# Question 3: Find the track with the longest duration\n",
    "longest_track_element = max(root.findall(\".//track\"), key=lambda x: int(x.find(\"duration_ms\").text))\n",
    "track_name = longest_track_element.find(\"name\").text\n",
    "duration_ms = int(longest_track_element.find(\"duration_ms\").text)\n",
    "\n",
    "\n",
    "for artist_name, artist_id in artists_set:\n",
    "    print(f\"Artist: {artist_name}, ID: {artist_id}\")\n",
    "\n",
    "print(f\"The longest track is '{track_name}' with a duration of {duration_ms} milliseconds.\")"
   ]
  },
  {
   "cell_type": "markdown",
   "metadata": {},
   "source": [
    "## Question 3\n",
    "The US Federal Government maintains many energy related Web-based resources.\n",
    "One such API resource provides programmatic access to several renewable energy data categories.\n",
    "One such resource is an API endpoint that supports access to alternative transportation technologies data.\n",
    "\n",
    "In this question you will query the API designed to return information regarding alternative fuel\n",
    "stations. This API returns information about alternative fuel station locations. Alternative fuel\n",
    " stations provide access to alternative fuels such as biodiesel, compressed natural gas,\n",
    " ethanol, electric charging, hydrogen, liquefied natural gas, and propane.\n",
    "\n",
    "### Request Data Requirements\n",
    "#### API Documentation\n",
    "The alternative fuel stations API documentation can be seen at:\n",
    "\n",
    "https://developer.nrel.gov/docs/transportation/alt-fuel-stations-v1/all/\n",
    "\n",
    "#### API URL\n",
    "Use the following API url to access the alternative fuel station data:\n",
    "\n",
    "```\n",
    "https://developer.nrel.gov/api/alt-fuel-stations/v1\n",
    "```\n",
    "\n",
    "#### Required API Parameters\n",
    "The following *alt-fuel-stations* GET request parameters **must** be provided as part of the request to access\n",
    "the data and control the output file format:\n",
    "\n",
    "Parameter Name | Required | Value | Description\n",
    "----------|----------|-------|------------\n",
    "format | Yes | Type: string | Request the *json* file format\n",
    "api_key| Yes| Type: string | Use your private API key if you have one.  Otherwise, use the following key - *w2vQp5MnxJ2zrfJ9ZqaRcqZCnXOM7uPBx5WstoFL*\n",
    "\n",
    "You may ignore all other *alt-fuel-stations* GET request parameters.\n",
    "\n",
    "#### Response Data\n",
    "Assume each row reflects the data for a unique alternative fuel station. You may also\n",
    "assume all city names are unique (they are not; however, we will ignore that for now).\n",
    "\n",
    "While the response data will contain many JSON elements, you may restrict your interest to the following:\n",
    "\n",
    "Element | Description\n",
    "------|------------\n",
    "fuel_stations | array of alternative fuel station objects (FSO)\n",
    "FSO.fuel_type_code | The type of alternative fuel the station provides. <u>Valid fuel type codes are shown below.</u>\n",
    "FSO.station_name | The name of the station.\n",
    "FSO.street_address | The street address of the station's location.\n",
    "FSO.intersection_directions | Brief additional information about how to locate the station.\n",
    "FSO.city | The city of the station's location.\n",
    "FSO.state | The two-character code for the U.S. state or Canadian province/territory of the station's location.\n",
    "FSO.zip | The ZIP code (postal code) of the station's location.\n",
    "\n",
    "Fuel Type Codes | Description\n",
    "----------------|------------\n",
    "BD | Biodiesel\n",
    "CNG | Compressed Natural Gas (CNG)\n",
    "ELEC | Electric\n",
    "E85 | Ethanol\n",
    "HY | Hydrogen\n",
    "LNG | Liquefied Natural Gas\n",
    "LPG | Propane\n",
    "\n",
    "### Programming Tasks\n",
    "Author the python code necessary to answer the following questions:\n",
    "\n",
    "1. Across all returned stations, what is the most commonly provided alternative fuel type? You may\n",
    "ignore any ties.\n",
    "2. Which zip code has the most alternative fuel stations that provide the ELEC fuel type? You may\n",
    "ignore any ties."
   ]
  },
  {
   "cell_type": "code",
   "execution_count": 54,
   "metadata": {
    "collapsed": false,
    "jupyter": {
     "outputs_hidden": false
    },
    "pycharm": {
     "name": "#%%\n"
    }
   },
   "outputs": [
    {
     "name": "stdout",
     "output_type": "stream",
     "text": [
      "{'CNG': 1384, 'E85': 4489, 'ELEC': 67603, 'LNG': 121, 'LPG': 2839, 'BD': 1700, 'HY': 120, 'RD': 609}\n",
      "The most commonly provided alternative fuel type is: ELEC\n",
      "The zip code with the most ELEC fuel stations is: 94025\n"
     ]
    }
   ],
   "source": [
    "import requests\n",
    "import json\n",
    "\n",
    "# TEST DATA\n",
    "API_URL = 'https://developer.nrel.gov/api/alt-fuel-stations/v1'\n",
    "API_KEY = \"w2vQp5MnxJ2zrfJ9ZqaRcqZCnXOM7uPBx5WstoFL\"\n",
    "\n",
    "# YOU MUST USE THE FOLLOWING DICTIONARY (parameters) AS THE params keyword argument to requests.get()\n",
    "# Example:\n",
    "# response_obj = requests.get(someurl, params=parameters, timeout=5)\n",
    "# parameters = dict(format='json', api_key=API_KEY)\n",
    "# Request parameters\n",
    "params = {\n",
    "    'format': 'json',\n",
    "    'api_key': API_KEY\n",
    "}\n",
    "\n",
    "# Make the API request\n",
    "response = requests.get(API_URL, params=params)\n",
    "json_as_py = response.json()\n",
    "\n",
    "#json_str = '{\"station_locator_url\":\"https://afdc.energy.gov/stations/\",\"total_results\":17705,\"station_counts\":{\"total\":51167,\"fuels\":{\"BD\":{\"total\":0},\"E85\":{\"total\":372},\"ELEC\":{\"total\":50795,\"stations\":{\"total\":17333}},\"HY\":{\"total\":0},\"LNG\":{\"total\":0},\"CNG\":{\"total\":0},\"LPG\":{\"total\":0},\"RD\":{\"total\":0}}},\"fuel_stations\":[{\"access_code\":\"private\",\"access_days_time\":\"Fleet use only\",\"access_detail_code\":null,\"cards_accepted\":null,\"date_last_confirmed\":\"2023-09-14\",\"expected_date\":null,\"fuel_type_code\":\"ELEC\",\"groups_with_access_code\":\"Private\",\"id\":1517,\"open_date\":\"1999-10-15\",\"owner_type_code\":\"LG\",\"status_code\":\"E\",\"restricted_access\":null,\"maximum_vehicle_class\":null,\"station_name\":\"LADWP - Truesdale Center\",\"station_phone\":null,\"updated_at\":\"2023-09-14T14:01:49Z\",\"facility_type\":\"UTILITY\",\"geocode_status\":\"GPS\",\"latitude\":34.2483191527193,\"longitude\":-118.3879713743439,\"city\":\"Sun Valley\",\"intersection_directions\":null,\"plus4\":null,\"state\":\"CA\",\"street_address\":\"11797 Truesdale St\",\"zip\":\"91352\",\"country\":\"US\",\"bd_blends\":null,\"cng_dispenser_num\":null,\"cng_fill_type_code\":null,\"cng_psi\":null,\"cng_renewable_source\":null,\"cng_total_compression\":null,\"cng_total_storage\":null,\"cng_vehicle_class\":null,\"cng_has_rng\":null,\"e85_blender_pump\":null,\"e85_other_ethanol_blends\":null,\"ev_connector_types\":[\"CHADEMO\",\"J1772\",\"J1772COMBO\"],\"ev_dc_fast_num\":2,\"ev_level1_evse_num\":null,\"ev_level2_evse_num\":57,\"ev_network\":\"SHELL_RECHARGE\",\"ev_network_web\":\"https://shellrecharge.com/en-us/solutions\",\"ev_other_evse\":null,\"ev_pricing\":null,\"ev_renewable_source\":null,\"ev_workplace_charging\":true,\"hy_is_retail\":null,\"hy_pressures\":null,\"hy_standards\":null,\"hy_status_link\":null,\"lng_renewable_source\":null,\"lng_vehicle_class\":null,\"lng_has_rng\":null,\"lpg_primary\":null,\"lpg_nozzle_types\":null,\"ng_fill_type_code\":null,\"ng_psi\":null,\"ng_vehicle_class\":null,\"rd_blends\":null,\"rd_blends_fr\":null,\"rd_blended_with_biodiesel\":null,\"rd_max_biodiesel_level\":null,\"nps_unit_name\":null,\"access_days_time_fr\":null,\"intersection_directions_fr\":null,\"bd_blends_fr\":null,\"groups_with_access_code_fr\":\"Privé\",\"ev_pricing_fr\":null},{\"access_code\":\"private\",\"access_days_time\":null,\"access_detail_code\":null,\"cards_accepted\":null,\"date_last_confirmed\":\"2023-01-10\",\"expected_date\":null,\"fuel_type_code\":\"ELEC\",\"groups_with_access_code\":\"Private\",\"id\":1519,\"open_date\":\"2020-02-28\",\"owner_type_code\":\"LG\",\"status_code\":\"E\",\"restricted_access\":null,\"maximum_vehicle_class\":null,\"station_name\":\"LADWP - West LA District Office\",\"station_phone\":null,\"updated_at\":\"2023-02-15T22:45:41Z\",\"facility_type\":\"UTILITY\",\"geocode_status\":\"200-8\",\"latitude\":34.052542,\"longitude\":-118.448504,\"city\":\"Los Angeles\",\"intersection_directions\":null,\"plus4\":null,\"state\":\"CA\",\"street_address\":\"1394 S Sepulveda Blvd\",\"zip\":\"90024\",\"country\":\"US\",\"bd_blends\":null,\"cng_dispenser_num\":null,\"cng_fill_type_code\":null,\"cng_psi\":null,\"cng_renewable_source\":null,\"cng_total_compression\":null,\"cng_total_storage\":null,\"cng_vehicle_class\":null,\"cng_has_rng\":null,\"e85_blender_pump\":null,\"e85_other_ethanol_blends\":null,\"ev_connector_types\":[\"J1772\"],\"ev_dc_fast_num\":null,\"ev_level1_evse_num\":null,\"ev_level2_evse_num\":4,\"ev_network\":\"Non-Networked\",\"ev_network_web\":null,\"ev_other_evse\":null,\"ev_pricing\":\"Free\",\"ev_renewable_source\":null,\"ev_workplace_charging\":true,\"hy_is_retail\":null,\"hy_pressures\":null,\"hy_standards\":null,\"hy_status_link\":null,\"lng_renewable_source\":null,\"lng_vehicle_class\":null,\"lng_has_rng\":null,\"lpg_primary\":null,\"lpg_nozzle_types\":null,\"ng_fill_type_code\":null,\"ng_psi\":null,\"ng_vehicle_class\":null,\"rd_blends\":null,\"rd_blends_fr\":null,\"rd_blended_with_biodiesel\":null,\"rd_max_biodiesel_level\":null,\"nps_unit_name\":null,\"access_days_time_fr\":null,\"intersection_directions_fr\":null,\"bd_blends_fr\":null,\"groups_with_access_code_fr\":\"Privé\",\"ev_pricing_fr\":null}]}'\n",
    "#json_as_py = json.loads(json_str)\n",
    "#print(json_as_py)\n",
    "\n",
    "# Question 1: Across all returned stations, what is the most commonly provided alternative fuel type?\n",
    "fuel_type_counts = {}\n",
    "for station in data['fuel_stations']:\n",
    "    fuel_type = station['fuel_type_code']\n",
    "    fuel_type_counts[fuel_type] = fuel_type_counts.get(fuel_type, 0) + 1\n",
    "print(fuel_type_counts)\n",
    "most_common_fuel_type = max(fuel_type_counts, key=fuel_type_counts.get)\n",
    "\n",
    "print(f\"The most commonly provided alternative fuel type is: {most_common_fuel_type}\")\n",
    "\n",
    "# Question 2: Which zip code has the most alternative fuel stations that provide the ELEC fuel type?\n",
    "elec_stations_by_zip = {}\n",
    "for station in data['fuel_stations']:\n",
    "    if station['fuel_type_code'] == 'ELEC':\n",
    "        zip_code = station['zip']\n",
    "        elec_stations_by_zip[zip_code] = elec_stations_by_zip.get(zip_code, 0) + 1\n",
    "\n",
    "most_elec_zip = max(elec_stations_by_zip, key=elec_stations_by_zip.get)\n",
    "\n",
    "print(f\"The zip code with the most ELEC fuel stations is: {most_elec_zip}\")"
   ]
  },
  {
   "cell_type": "code",
   "execution_count": null,
   "metadata": {},
   "outputs": [],
   "source": []
  }
 ],
 "metadata": {
  "kernelspec": {
   "display_name": "Python 3 (ipykernel)",
   "language": "python",
   "name": "python3"
  },
  "language_info": {
   "codemirror_mode": {
    "name": "ipython",
    "version": 3
   },
   "file_extension": ".py",
   "mimetype": "text/x-python",
   "name": "python",
   "nbconvert_exporter": "python",
   "pygments_lexer": "ipython3",
   "version": "3.10.12"
  },
  "vscode": {
   "interpreter": {
    "hash": "0400823d55d45e049b5650d9f722273c95dfd46d59c82a1ad996971de83cf4d0"
   }
  }
 },
 "nbformat": 4,
 "nbformat_minor": 4
}
