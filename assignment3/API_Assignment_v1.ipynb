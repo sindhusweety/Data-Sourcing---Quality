{
 "cells": [
  {
   "cell_type": "markdown",
   "metadata": {
    "collapsed": false,
    "jupyter": {
     "outputs_hidden": false
    }
   },
   "source": [
    "# ISYS613 - Data Sourcing and Quality\n",
    "## Assignment 3\n",
    "## Web APIs"
   ]
  },
  {
   "cell_type": "markdown",
   "metadata": {
    "collapsed": true,
    "jupyter": {
     "outputs_hidden": true
    },
    "pycharm": {
     "name": "#%% md\n"
    }
   },
   "source": [
    "## Question_1\n",
    "The Consumer Complaint Database is a collection of complaints about\n",
    " consumer financial products and services that are sent to companies for\n",
    " response. Complaints are published after the company responds,\n",
    " confirming a commercial relationship with the consumer, or after 15\n",
    " days, whichever comes first.\n",
    "\n",
    "### Field reference\n",
    "Refer to the following URL for a complete listing and description of the fields are currently included\n",
    "in the database. https://cfpb.github.io/api/ccdb/fields.html\n",
    "\n",
    "### Direct Data Download\n",
    "A recent version of the Consumer Complaint Database is available for direct\n",
    "download from the following URL.\n",
    "\n",
    "https://www.drivehq.com/file/DFPublishFile.aspx/FileID7603336590/Keyitc9ddc81b6i/complaints_sm.csv\n",
    "\n",
    "### Programming Tasks\n",
    "Author the python code necessary to answer the following questions:\n",
    "\n",
    "1. What is the most common type of consumer identified 'product' in the complaint database?\n",
    "2. Considering only the most common type of consumer identified 'product' in the complaint database,\n",
    "what percentage of those complaints were associated with a timely response by the company identified in\n",
    "the complaint?"
   ]
  },
  {
   "cell_type": "code",
   "execution_count": 1,
   "metadata": {
    "collapsed": false,
    "jupyter": {
     "outputs_hidden": false
    },
    "pycharm": {
     "name": "#%%\n"
    }
   },
   "outputs": [
    {
     "name": "stdout",
     "output_type": "stream",
     "text": [
      "Success: 200\n",
      "The most common product is: Credit reporting, credit repair services, or other personal consumer reports\n",
      "The percentage of timely responses for this product is: 98.21%\n"
     ]
    }
   ],
   "source": [
    "import requests\n",
    "import json\n",
    "from requests.exceptions import HTTPError\n",
    "import csv\n",
    "\n",
    "\n",
    "def url_request(url:str, *args, **kwargs) -> requests.Response:\n",
    "    try:\n",
    "        response = requests.get(url, *args, **kwargs)\n",
    "        # If the response was successful, no Exception will be raised\n",
    "        # by the following line\n",
    "        response.raise_for_status()\n",
    "\n",
    "    except HTTPError as http_err:\n",
    "        # Cannot proceed\n",
    "        print(f'HTTP error occurred: {http_err}')\n",
    "        raise\n",
    "    except Exception as err:\n",
    "        # Cannot proceed\n",
    "        print(f'Other error occurred: {err}')\n",
    "        raise\n",
    "    else:\n",
    "        print(f'Success: {response.status_code}')\n",
    "\n",
    "    return response.text\n",
    "\n",
    "\n",
    "def txt_csv_dict(data):\n",
    "    \n",
    "    csv_data = data.split('\\n')\n",
    "    reader = csv.DictReader(csv_data)\n",
    "    return reader\n",
    "    \n",
    "def get_most_common_product(reader):\n",
    "    \n",
    "    product_counts = {}\n",
    "    \n",
    "    for row in reader:\n",
    "        product = row['Product']\n",
    "        if product in product_counts:\n",
    "            product_counts[product] += 1\n",
    "        else:\n",
    "            product_counts[product] = 1\n",
    "\n",
    "   \n",
    "    most_common_product = max(product_counts, key=product_counts.get)\n",
    "    return most_common_product\n",
    "\n",
    "\n",
    "def calculate_timely_response_percentage(reader, product):\n",
    "    \n",
    "    total_complaints = 0\n",
    "    timely_responses = 0\n",
    "    \n",
    "    for row in reader:\n",
    "        \n",
    "        if row['Product'] == product:\n",
    "            total_complaints += 1\n",
    "            \n",
    "            if row['Timely response?'] == 'Yes':\n",
    "                timely_responses += 1\n",
    "\n",
    "    percentage = (timely_responses / total_complaints) * 100 if total_complaints > 0 else 0\n",
    "    return percentage\n",
    "\n",
    "\n",
    "if __name__ == '__main__':\n",
    "    # TEST DATA\n",
    "    URL = 'https://www.drivehq.com/file/DFPublishFile.aspx/FileID7603336590/Keyitc9ddc81b6i/complaints_sm.csv'\n",
    "   \n",
    "    data = url_request(URL)\n",
    "    reader = list(txt_csv_dict(data))\n",
    "    \n",
    "    most_common_product = get_most_common_product(reader)\n",
    "    timely_response_percentage = calculate_timely_response_percentage(reader, most_common_product)\n",
    "    \n",
    "    print(f\"The most common product is: {most_common_product}\")\n",
    "    print(f\"The percentage of timely responses for this product is: {timely_response_percentage:.2f}%\")\n"
   ]
  },
  {
   "cell_type": "markdown",
   "metadata": {
    "collapsed": false,
    "jupyter": {
     "outputs_hidden": false
    }
   },
   "source": [
    "## Question_2\n",
    "\n",
    "The US Federal Government maintains many energy related Web-based resources.\n",
    "One such resource provides programmatic access to several renewable energy data categories.\n",
    "In particular, there is an API endpoint that supports access to a database of\n",
    "alternative fuel vehicles (AFVs), manufacturers, fuels, engines, and hybrid/conversion systems.\n",
    "\n",
    "In this question you will query this API in order to return information regarding alternative fuel\n",
    "light-duty vehicles.\n",
    "\n",
    "#### API Documentation\n",
    "The alternative fuel vehicle (AFV) API documentation portal uses the OpenAPI Specification.\n",
    "The OpenAPI Specification (originally known as the Swagger\n",
    " Specification) is a specification for machine-readable interface files\n",
    " for describing, producing, consuming, and visualizing RESTful web services.\n",
    "\n",
    "The OpenAPI documentation for AFVs can be seen at:\n",
    "\n",
    "https://developer.nrel.gov/docs/transportation/vehicles-v1/\n",
    "\n",
    "### Request Data Requirements\n",
    "Use one or more of the endpoints documented by the docs URL above to answer the following questions.\n",
    "\n",
    "NOTE: To ensure coverage of the assignment related material, some of the questions have specific requirements\n",
    "regarding the output_format to be requested when retrieving the payload data.\n",
    "\n",
    "### Programming Tasks\n",
    "Author the python code necessary to answer the following questions:\n",
    "\n",
    "1. Which light-duty automobile manufacturer (by name) offered the most light-duty AFVs in the model year 2020?\n",
    "Required *output_format*: XML.\n",
    "**Hint:** Look carefully at the /v1/light_duty_automobiles.{output_format}\n",
    "\n",
    "2. Which alternative fuels types are supported by the most current vehicle categories?\n",
    "Return only fuels associated with current light-duty automobiles\n",
    "Required *output_format*: JSON.\n",
    "**Hint:** Look carefully at the /v1/fuels.{output_format} endpoint."
   ]
  },
  {
   "cell_type": "code",
   "execution_count": 4,
   "metadata": {
    "collapsed": false,
    "jupyter": {
     "outputs_hidden": false
    },
    "pycharm": {
     "name": "#%%\n"
    }
   },
   "outputs": [
    {
     "name": "stdout",
     "output_type": "stream",
     "text": [
      "<Element 'response' at 0x7fb4d3c6f560>\n",
      "Manufacturer with the most light-duty AFVs in the model year 2020: \n",
      "Alternative fuels supported by the most current light-duty vehicle categories: ['Methanol', 'Biodiesel (B20)', 'Propane', 'Electric', 'Hybrid Electric', 'Ethanol (E85)', 'Hydrogen Fuel Cell', 'CNG - Compressed Natural Gas', 'CNG - Bi-fuel', 'Propane - Bi-fuel', 'Plug-in Hybrid Electric']\n"
     ]
    }
   ],
   "source": [
    "import requests\n",
    "import json\n",
    "import xml.etree.ElementTree as ET\n",
    "\n",
    "# Define the API base URL\n",
    "base_url = \"https://developer.nrel.gov/api/vehicles\"\n",
    "\n",
    "# Replace with your API key if required\n",
    "api_key = \"7iBnQl5GMBgun0YcmqG1N2k4gfK9jwvi7klwdalv\"\n",
    "\n",
    "# Helper function to make API requests\n",
    "def make_api_request(endpoint, params=None):\n",
    "    headers = {\"Content-Type\": \"application/json\"}\n",
    "    if api_key:\n",
    "        params = params or {}\n",
    "        params[\"api_key\"] = api_key\n",
    "\n",
    "    response = requests.get(f\"{base_url}{endpoint}\", params=params, headers=headers)\n",
    "    response.raise_for_status()\n",
    "    \n",
    "    return response\n",
    "\n",
    "# Question 1: Find the manufacturer with the most light-duty AFVs in the model year 2020 (Output format: XML)\n",
    "def get_manufacturer_with_most_afvs():\n",
    "    endpoint = f\"/v1/light_duty_automobiles.xml\"\n",
    "    response = make_api_request(endpoint)\n",
    "    \n",
    "    root = ET.fromstring(response.text)\n",
    "    print(root)\n",
    "    max_afvs = 0\n",
    "    manufacturer_name = \"\"\n",
    "\n",
    "    for vehicle in root.findall(\".//vehicle\"):\n",
    "        model_year = vehicle.find(\"model_year\").text\n",
    "        if model_year == \"2020\":\n",
    "            afvs_count = len(vehicle.findall(\".//afvs/afv\"))\n",
    "            if afvs_count > max_afvs:\n",
    "                max_afvs = afvs_count\n",
    "                manufacturer_name = vehicle.find(\"make\").text\n",
    "\n",
    "    return manufacturer_name\n",
    "\n",
    "# Question 2: Find alternative fuel types supported by the most current light-duty vehicle categories (Output format: JSON)\n",
    "def get_fuels_supported_by_current_categories():\n",
    "    endpoint = \"/v1/fuels.json\"\n",
    "    response = make_api_request(endpoint)\n",
    "    fuels_data = response.json()\n",
    "    \n",
    "    \n",
    "    fuels_by_category = []\n",
    "    \n",
    "    for fuel_category in fuels_data[\"result\"]:\n",
    "        if fuel_category[\"has_light_duty_automobiles?\"]:\n",
    "            fuels_by_category.append(fuel_category[\"name\"])\n",
    "        #else:\n",
    "            #print(fuel_category[\"name\"])\n",
    "\n",
    "\n",
    "    return fuels_by_category\n",
    "\n",
    "\n",
    "\n",
    "# Question 1\n",
    "manufacturer_with_most_afvs = get_manufacturer_with_most_afvs()\n",
    "print(\"Manufacturer with the most light-duty AFVs in the model year 2020:\", manufacturer_with_most_afvs)\n",
    "\n",
    "# Question 2\n",
    "fuels_supported_by_current_categories = get_fuels_supported_by_current_categories()\n",
    "print(\"Alternative fuels supported by the most current light-duty vehicle categories:\", fuels_supported_by_current_categories)\n"
   ]
  },
  {
   "cell_type": "code",
   "execution_count": null,
   "metadata": {},
   "outputs": [],
   "source": []
  }
 ],
 "metadata": {
  "kernelspec": {
   "display_name": "Python 3 (ipykernel)",
   "language": "python",
   "name": "python3"
  },
  "language_info": {
   "codemirror_mode": {
    "name": "ipython",
    "version": 3
   },
   "file_extension": ".py",
   "mimetype": "text/x-python",
   "name": "python",
   "nbconvert_exporter": "python",
   "pygments_lexer": "ipython3",
   "version": "3.10.12"
  }
 },
 "nbformat": 4,
 "nbformat_minor": 4
}
