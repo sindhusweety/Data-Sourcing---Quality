{
 "cells": [
  {
   "cell_type": "markdown",
   "metadata": {
    "pycharm": {
     "name": "#%% md\n"
    }
   },
   "source": [
    "# API-Based Data Wrangling in Python – Simple Cases\n",
    "## Introduction\n",
    "You may recall that the ugly truth about collecting data from an API is that every\n",
    " API source can be and usually is unique.  By that I mean, while the data\n",
    " returned will almost always be in a standard file format (CSV, JSON,\n",
    " XML), the API endpoint navigation and interactions and returned data\n",
    " schema (and thus interpretation) will most certainly be unique.\n",
    "\n",
    " Long story short, <u>your success will depend on your ability to read,\n",
    " interpret, and implement technical information pertaining to a\n",
    " service's APIs and their returned data.</u>\n",
    "\n",
    "So, in order to ensure we make a successful request, when we work with\n",
    " APIs it's important to consult the documentation. Technical\n",
    " documentation can seem daunting at first, but as you use documentation\n",
    " more and more you'll find it gets easier.  And, of course, some docs\n",
    " are better than others."
   ]
  },
  {
   "cell_type": "markdown",
   "metadata": {
    "pycharm": {
     "name": "#%% md\n"
    }
   },
   "source": [
    "## Question\n",
    "The Star Wars API (SWAPI) is maintained by avid Star Wars fans.  SWAPI\n",
    " is the world's first quantified and programmatically-formatted\n",
    " Star Wars dataset.  Apparently, the data returned by the API has been\n",
    " complied after countless hours of watching films and trawling through\n",
    " content online.  The API exposes endpoints capable of providing data\n",
    " about People, Films, Species, Starships, Vehicles and Planets from\n",
    " the Star Wars movies.\n",
    "\n",
    "The API documentation should help you familiarize yourself with the\n",
    " resources available and how to consume them with HTTP requests.  Read\n",
    " through the getting started section before you dive in. Most issues\n",
    " can be resolved by reading the documentation.  Star Wars API\n",
    " Documentation (https://swapi.dev/documentation).\n",
    "\n",
    "Notice how several of the APIs are logically 'linked' - ie., related.  This concept is\n",
    "best seen by looking at the attributes returned for the films endpoint\n",
    " (https://swapi.dev/api/films/).\n",
    "\n",
    "The films API returns JSON data.  Within that data is an array titled characters.  The\n",
    " characters attribute is an array of other SWAPI endpoints that that can be used to\n",
    " return the people endpoint data for all of the characters in the film.\n",
    "This type of relationship linking is common in Web APIs.\n",
    "\n",
    "### Tasks\n",
    "1. use the SWAPI films endpoint to return the data for all Star Wars films.\n",
    "2. isolate/find the film data for the film title *A New Hope*\n",
    "3. use the starships array from A New Hope to make HTTP requests for the data for all\n",
    " of the starships featured in this one film.\n",
    "4. using the starships array attribute 'films', for each starship associated with *A New Hope*,\n",
    "what is the name of the starship that has appeared (by count) in the greatest number of films.\n",
    "You may ignore any ties.\n",
    "\n",
    "### Task Logic\n",
    "* use the films endpoint to return all films.\n",
    "* for each returned film, find the film with title *A New Hope*\n",
    "* For that film, save variable reference to the starships array\n",
    "* For each starship endpoint for the film, request the starship endpoint\n",
    "* For each returned starship save the count of items in the films list\n",
    "* Find the max count of films\n",
    "* Display the starship name and max count of films\n",
    "\n",
    "**NOTE:** It is impossible to complete this task without reviewing (and understanding) the technical documents that describe the API.\n"
   ]
  },
  {
   "cell_type": "code",
   "execution_count": 9,
   "metadata": {
    "pycharm": {
     "name": "#%%\n"
    }
   },
   "outputs": [
    {
     "name": "stdout",
     "output_type": "stream",
     "text": [
      "Success: 200\n",
      "Success: 200\n",
      "Success: 200\n",
      "Success: 200\n",
      "Success: 200\n",
      "Success: 200\n",
      "Success: 200\n",
      "Success: 200\n",
      "Success: 200\n",
      "Starship 'CR90 corvette' was used in 3 films.\n",
      "Starship 'CR90 corvette' was used in 3 films.\n",
      "Starship 'Star Destroyer' was used in 3 films.\n",
      "Starship 'Millennium Falcon' was used in 3 films.\n",
      "Starship 'Y-wing' was used in 3 films.\n",
      "Starship 'X-wing' was used in 3 films.\n"
     ]
    }
   ],
   "source": [
    "import requests\n",
    "import json\n",
    "from requests.exceptions import HTTPError\n",
    "from pprint import pprint\n",
    "\n",
    "# The operator * is used here to pass along any additional arguments\n",
    "# to .get() that many have been provided by the user. Ex: params, headers, timeout, etc.\n",
    "# How does that work?  See https://realpython.com/python-kwargs-and-args/\n",
    "\n",
    "def url_request(url:str, *args, **kwargs) -> requests.Response:\n",
    "    try:\n",
    "        response = requests.get(url, *args, **kwargs)\n",
    "        # If the response was successful, no Exception will be raised\n",
    "        # by the following line\n",
    "        response.raise_for_status()\n",
    "\n",
    "    except HTTPError as http_err:\n",
    "        # Cannot proceed\n",
    "        print(f'HTTP error occurred: {http_err}')\n",
    "        raise\n",
    "    except Exception as err:\n",
    "        # Cannot proceed\n",
    "        print(f'Other error occurred: {err}')\n",
    "        raise\n",
    "    else:\n",
    "        print(f'Success: {response.status_code}')\n",
    "\n",
    "    return response\n",
    "\n",
    "def start_wars_main(url, target_film):\n",
    "    response = url_request(url, timeout=10)\n",
    "    json_as_py = response.json()\n",
    "    #pprint(json_as_py, indent=2, compact=True)\n",
    "\n",
    "    film_list = json_as_py['results']\n",
    "    for film_dict in film_list:\n",
    "        film_title = film_dict['title']\n",
    "        if film_title == target_film:\n",
    "            starships_list = film_dict['starships']\n",
    "            \n",
    "            # done here\n",
    "            break\n",
    "    else:\n",
    "        raise ValueError(f'Target film {target_film} not found.')\n",
    "\n",
    "    # for each starship in the target film, fetch the data for the starship endpoint\n",
    "    # use a dict to keep track the ship names and the count of the movies\n",
    "    # in which the ship was used\n",
    "    #\n",
    "    cnt_of_films_by_sship = {}\n",
    "    for sship_epnt in starships_list:\n",
    "    \n",
    "        r = url_request(sship_epnt, timeout=5)\n",
    "        ss_json_as_py = r.json()\n",
    "        ss_name = ss_json_as_py['name']\n",
    "        films_list = ss_json_as_py['films']\n",
    "        cnt = len(films_list)\n",
    "        cnt_of_films_by_sship[ss_name] = cnt\n",
    "\n",
    "    max_cnt_key = max(cnt_of_films_by_sship, key=cnt_of_films_by_sship.get)\n",
    "\n",
    "    ss_cnt = cnt_of_films_by_sship[max_cnt_key]\n",
    "    ss_nm = max_cnt_key\n",
    "\n",
    "    print(f\"Starship '{ss_nm}' was used in {ss_cnt} films.\")\n",
    "\n",
    "    #################################################\n",
    "    # Alternative solution that handles ties - there are ties!\n",
    "\n",
    "    # Sort dict by its values in descending order\n",
    "    # what is the max count\n",
    "    max_cnt = max(cnt_of_films_by_sship.values())\n",
    "\n",
    "    # print ships with max_cnt film appearances\n",
    "    for k,v in cnt_of_films_by_sship.items():\n",
    "        if v == max_cnt:\n",
    "            print(f\"Starship '{k}' was used in {v} films.\")\n",
    "\n",
    "if __name__ == '__main__':\n",
    "    FILMS_URL = 'https://swapi.dev/api/films/'\n",
    "    TARGET_FILM = 'A New Hope'\n",
    "    start_wars_main(url=FILMS_URL, target_film=TARGET_FILM)"
   ]
  },
  {
   "cell_type": "code",
   "execution_count": null,
   "metadata": {},
   "outputs": [],
   "source": []
  }
 ],
 "metadata": {
  "kernelspec": {
   "display_name": "Python 3 (ipykernel)",
   "language": "python",
   "name": "python3"
  },
  "language_info": {
   "codemirror_mode": {
    "name": "ipython",
    "version": 3
   },
   "file_extension": ".py",
   "mimetype": "text/x-python",
   "name": "python",
   "nbconvert_exporter": "python",
   "pygments_lexer": "ipython3",
   "version": "3.10.12"
  },
  "vscode": {
   "interpreter": {
    "hash": "0400823d55d45e049b5650d9f722273c95dfd46d59c82a1ad996971de83cf4d0"
   }
  }
 },
 "nbformat": 4,
 "nbformat_minor": 4
}
