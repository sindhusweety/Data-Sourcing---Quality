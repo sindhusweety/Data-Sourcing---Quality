{
 "cells": [
  {
   "cell_type": "markdown",
   "metadata": {
    "collapsed": false,
    "jupyter": {
     "outputs_hidden": false
    },
    "pycharm": {
     "name": "#%% md\n"
    }
   },
   "source": [
    "# Ingesting Delimited Files in Python\n",
    "## Introduction\n",
    "Now that you have worked through the CVS intro lab it is time to try \n",
    " your hand parsing another file.  In this lab you are to open and parse \n",
    " the zillow.csv data file.\n",
    " \n",
    "Each line in the zillow.csv file contains the following 7 attributes:\n",
    "```\n",
    "Index\n",
    "Living Space (sq ft)\n",
    "Beds\n",
    "Baths\n",
    "Zip\n",
    "Year\n",
    "List Price ($)\n",
    "```\n",
    "You may/should model your approach after our intro to delimited data lab solutions.  When \n",
    " that is not enough, use the documentation to determine an appropriate \n",
    " course of action. https://docs.python.org/3/library/csv.html\n",
    " \n",
    "### Tasks\n",
    "1. Use the csv module to ingest the data\n",
    "2. For each how many properties have more than 3 baths?  What are \n",
    " the Index values for those properties?\n",
    "3. How many houses built prior to 1990 have living space >= 3000 \n",
    " square feet\n",
    "4. Ingest the CSV file using a Python dictionary approach\n",
    "5. Add an attribute to the dictionary named Living Space (sq m) \n",
    " that is the conversion of square feet to square meters (to convert \n",
    " from square feet to square meters, just multiply by 0.0929).\n",
    " "
   ]
  },
  {
   "cell_type": "code",
   "execution_count": 1,
   "metadata": {
    "collapsed": false,
    "jupyter": {
     "outputs_hidden": false
    },
    "pycharm": {
     "name": "#%% \n"
    }
   },
   "outputs": [
    {
     "name": "stdout",
     "output_type": "stream",
     "text": [
      "There are 8 houses with more than 3 baths.\n",
      "Those 8 houses are located at indices ['1', '3', '5', '9', '12', '13', '16', '19'].\n",
      "There are 3 houses built prior to 1990 that have 3000 or more of living space.\n"
     ]
    }
   ],
   "source": [
    "import csv\n",
    "'''\n",
    "Reading from a CSV file is done using the reader object. \n",
    "The CSV file is opened as a text file with Python’s built-in open() function, \n",
    "which returns a file object. This is then passed to the reader, which does \n",
    "the heavy lifting.\n",
    "'''\n",
    "# 'with' creates a context manager whose job is the make sure that \n",
    "# resources created in support of opening an reading a file are\n",
    "# properly disposed of when the context is exited.  This may be the result of \n",
    "# an error or normal (non-error) processing\n",
    "\n",
    "# As most other things in Python, the with statement is actually very simple, once you \n",
    "# understand the problem it’s trying to solve. Consider this piece of pseudocode:\n",
    "'''\n",
    "    set things up\n",
    "    try:\n",
    "        do something that might fail\n",
    "    finally:\n",
    "        tear things down\n",
    "'''\n",
    "# “set things up” could be opening a file (as we are doing here), or acquiring some \n",
    "# sort of external resource, and “tear things down” would then be closing the file, \n",
    "# or releasing or removing the resource. The try-finally construct guarantees that the \n",
    "# “tear things down” part is always executed, even if the code in the 'try' block \n",
    "# does the work doesn’t finish for any reason. \n",
    "# 'with' is sytactic sugar, as they say, that simply implements the above pseudocode.\n",
    "# See https://www.python.org/dev/peps/pep-0343/ for gory details.\n",
    "#\n",
    "# read the csv file using a Python row approach\n",
    "with open('zillow.csv', mode='r', newline='') as csv_file:\n",
    "    csv_reader = csv.reader(csv_file)\n",
    "\n",
    "    # Notice, each row is a list.\n",
    "    # The header row is presented as a \"row\" by the csv_reader iterator,\n",
    "    #\n",
    "    # 1st row contains the following attribute names:\n",
    "    # Index,LivingSpace,Beds,Baths,Zip,Year,ListPrice\n",
    "    # \n",
    "    gt_3_baths = []\n",
    "    lg_pre_1990 = 0\n",
    "\n",
    "    # Anyone working with python will need to understand\n",
    "    # iterators and iterables.  If you don't, you should read the following:\n",
    "    # https://treyhunner.com/2016/12/python-iterator-protocol-how-for-loops-work/\n",
    "    # I can ask an iterator for it's next value using next().\n",
    "    # Here, the 'next' value is the header row.\n",
    "    # Since this is my first request - next is also the first value - the header row.\n",
    "\n",
    "    hdr = next(csv_reader)\n",
    "\n",
    "    # create a tuple of the index values in the row list for each attribute\n",
    "    # ranges() returns an object that produces a sequence of integers from start (inclusive)\n",
    "    # to stop (exclusive) by step.  range(i, j) produces i, i+1, i+2, ..., j-1.\n",
    "\n",
    "    # Note: this assumes I know the order of the columns - a reasonable assumption\n",
    "    Index,LivingSpace,Beds,Baths,Zip,Year,ListPrice = [ i for i in range(0, len(hdr)) ]\n",
    "\n",
    "    # when complete Index=0, LivingSpace=1, etc.\n",
    "\n",
    "    for row in csv_reader:\n",
    "        # Recall, everything returned as a row is a string data type.\n",
    "        # Often we will need to convert column from a string to a number type.\n",
    "\n",
    "        # Use a list comprehension to pick out the keys of interest and\n",
    "        # convert them to the appropriate number type (int or float).  Assign the resulting numbers\n",
    "        # to a tuple of variables with the appropriate names.\n",
    "\n",
    "        # Index and Year are integers\n",
    "        Index_v,Year_v = (int(v) for i,v in enumerate(row) if i in [Index,Year])\n",
    "\n",
    "        # LivingSpace and Baths are floating point\n",
    "        LivingSpace_v,Baths_v = (float(v) for i,v in enumerate(row) if i in [LivingSpace,Baths])\n",
    "\n",
    "        if Baths_v > 3:\n",
    "            gt_3_baths.append(row[Index]) \n",
    "            \n",
    "        if Year_v < 1990 and LivingSpace_v >= 3000:\n",
    "            lg_pre_1990 += 1\n",
    "\n",
    "        # Add the sq meter requirement\n",
    "        row.append(LivingSpace_v * .0929)\n",
    "\n",
    "print(f'There are {len(gt_3_baths)} houses with more than 3 baths.')\n",
    "\n",
    "# conditionally print the list of houses\n",
    "if len(gt_3_baths):\n",
    "    print(f'Those {len(gt_3_baths)} houses are located at indices {gt_3_baths}.')\n",
    "\n",
    "print(f'There are {lg_pre_1990} houses built prior to 1990 that have 3000 or more of living space.')"
   ]
  },
  {
   "cell_type": "markdown",
   "metadata": {},
   "source": [
    "# Alternative Solution Using Dictionary Approach"
   ]
  },
  {
   "cell_type": "code",
   "execution_count": null,
   "metadata": {
    "collapsed": false,
    "jupyter": {
     "outputs_hidden": false
    },
    "pycharm": {
     "name": "#%%\n"
    }
   },
   "outputs": [],
   "source": [
    "import csv\n",
    "\n",
    "# read the csv file using a Python dictionary approach (DictReader)\n",
    "with open('zillow.csv', mode='r') as csv_file:\n",
    "    csv_reader = csv.DictReader(csv_file)\n",
    "\n",
    "    # Notice, each row is now a dicitionary - not a list.\n",
    "    # The header row is not presented as a \"row\" by the csv_reader iterator,\n",
    "    # Rather, the header row is used to create the key to be used/consumed to create/define\n",
    "    # the keys for each row-level dicitionary\n",
    "    #\n",
    "    # 1st row contains the following attribute names:\n",
    "    # Index,LivingSpace,Beds,Baths,Zip,Year,ListPrice\n",
    "    # The attr names will be the keys in each row dict.\n",
    "    gt_3_baths = []\n",
    "    lg_pre_1990 = 0\n",
    "    for row_dict in csv_reader:\n",
    "        # Here's a neat trick... the items() method returns an list of \n",
    "        # the dict key,value pairs for the current row making it an iterable.\n",
    "        # The values imported into the dict will all be of type string.\n",
    "        # To use these values in computations they must be converted numbers.\n",
    "\n",
    "        # Use a list comprehension to pick out the keys of interest and \n",
    "        # convert them to the appropriate number type (int or float).  Assign the resulting numbers\n",
    "        # to a tuple of variables with the appropriate names. \n",
    "        #  \n",
    "        Index,Year = [int(v) for k,v in row_dict.items() if k in ['Index','Year']]\n",
    "        LivingSpace,Baths = [float(v) for k,v in row_dict.items() if k in ['LivingSpace','Baths']]\n",
    "\n",
    "        if Baths > 3:\n",
    "            gt_3_baths.append(Index) \n",
    "            \n",
    "        if Year < 1990 and LivingSpace >= 3000:\n",
    "            lg_pre_1990 += 1\n",
    "\n",
    "        row_dict['LivingSpace_sqm'] = LivingSpace * .0929\n",
    "\n",
    "\n",
    "print(f'There are {len(gt_3_baths)} houses with more than 3 baths.')\n",
    "\n",
    "# conditionally print the list of houses\n",
    "if len(gt_3_baths) > 0:\n",
    "    print(f'Those {len(gt_3_baths)} houses are located at indices {gt_3_baths}.')\n",
    "\n",
    "print(f'There are {lg_pre_1990} houses built prior to 1990 that have 3000 or more of living space.')"
   ]
  }
 ],
 "metadata": {
  "kernelspec": {
   "display_name": "Python 3 (ipykernel)",
   "language": "python",
   "name": "python3"
  },
  "language_info": {
   "codemirror_mode": {
    "name": "ipython",
    "version": 3
   },
   "file_extension": ".py",
   "mimetype": "text/x-python",
   "name": "python",
   "nbconvert_exporter": "python",
   "pygments_lexer": "ipython3",
   "version": "3.10.12"
  },
  "vscode": {
   "interpreter": {
    "hash": "0400823d55d45e049b5650d9f722273c95dfd46d59c82a1ad996971de83cf4d0"
   }
  }
 },
 "nbformat": 4,
 "nbformat_minor": 4
}
