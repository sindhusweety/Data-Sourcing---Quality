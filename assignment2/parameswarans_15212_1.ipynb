{
 "cells": [
  {
   "cell_type": "markdown",
   "metadata": {
    "collapsed": false,
    "jupyter": {
     "outputs_hidden": false
    },
    "pycharm": {
     "name": "#%% md\n"
    }
   },
   "source": [
    "# ISYS613 Assignment 2 - Ingesting Data Files in Python\n",
    "## Introduction\n",
    "Below are 4 questions related to the 3 file exchange formats\n",
    " discussed in recent course work. You are to\n",
    " complete the questions using what you have learned from the readings\n",
    " and by completing the lab documents.  Do not attempt to solve these\n",
    " problems until you have completed all related lab work.\n",
    "\n",
    "**Note:** Do not use concepts not yet covered in our course to answer\n",
    " the assignment questions.\n",
    "Relatedly, do not use concepts you do not fully understand.\n",
    " Translation, using a search engine\n",
    "to construct your solutions is tedious, error prone, and most\n",
    " importantly,\n",
    "does not help you learn to solve problems!\n",
    "\n",
    "# Comma Separated Value Files\n",
    "## CSV Question 1\n",
    "The freshman_kgs.csv file contains data detailing the weight (in\n",
    " kilos) and BMI (body mass index) measures for university freshman.\n",
    " Each row contains the subjects weight and BMI at the beginning and end\n",
    " of the school year.\n",
    "\n",
    " ### Requirements\n",
    "Review the input file prior to beginning your script.  You are\n",
    " NOT to edit the input file; rather, your script needs to configure\n",
    " your CSV reader to work with the data as given.  You may use either\n",
    " reader() or DictReader() in your solution. You must use the Python's\n",
    " standard csv module to solve this problem.\n",
    "\n",
    "Author a program to parse the freshman_kgs.csv file and to answer the following questions.\n",
    "\n",
    "1. Does the sample data contain more observations for males or females?\n",
    "2. Which gender, males or females, has the largest average beginning BMI?\n",
    "3. Over the course of the school year, which gender experienced\n",
    " the largest absolute average change in weight?\n",
    "4. Disregarding gender, how many observations in the sample have\n",
    " a beginning BMI equal to the overall largest beginning BMI?"
   ]
  },
  {
   "cell_type": "code",
   "execution_count": 1,
   "metadata": {
    "collapsed": false,
    "jupyter": {
     "outputs_hidden": false
    },
    "pycharm": {
     "name": "#%%\n"
    }
   },
   "outputs": [
    {
     "name": "stdout",
     "output_type": "stream",
     "text": [
      "1. The sample data contains more observations for females\n",
      "2. The gender with the largest average beginning BMI is: males\n",
      "3. Over the course of the school year, the gender with the largest absolute average change in weight is: females\n",
      "4. The number of observations with a beginning BMI equal to the largest beginning BMI is: 0\n"
     ]
    }
   ],
   "source": [
    "import csv\n",
    "\n",
    "# Initialize variables\n",
    "males = 0\n",
    "females = 0\n",
    "male_bmi_sum = 0\n",
    "female_bmi_sum = 0\n",
    "largest_beginning_bmi = 0\n",
    "largest_beginning_bmi_count = 0\n",
    "gender_weight_change = {\"M\": 0, \"F\": 0}\n",
    "gender_weight_change_count = {\"M\": 0, \"F\": 0}\n",
    "equal_largest_beginning_bmi_count = 0\n",
    "\n",
    "with open('freshman_kgs.csv', mode='r') as csv_file:\n",
    "    csv_reader = csv.DictReader(csv_file, skipinitialspace=True, delimiter='|')\n",
    "    for row in csv_reader:\n",
    "        #print(row)\n",
    "        gender = row['gender'].strip()\n",
    "        begin_bmi = float(row['begin_weight'].strip())\n",
    "        end_bmi = float(row['end_BMI'].strip())\n",
    "        begin_weight = float(row['begin_weight'].strip())\n",
    "        end_weight = float(row['end_weight'].strip())\n",
    "        \n",
    "       \n",
    "        if gender == 'M':\n",
    "            males += 1\n",
    "            male_bmi_sum += begin_bmi\n",
    "        elif gender == 'F':\n",
    "            females += 1\n",
    "            female_bmi_sum += begin_bmi\n",
    "\n",
    "         # Check for largest beginning BMI\n",
    "        if begin_bmi > largest_beginning_bmi:\n",
    "            largest_beginning_bmi = begin_bmi\n",
    "            largest_beginning_bmi_count = 1\n",
    "        elif begin_bmi == largest_beginning_bmi:\n",
    "            largest_beginning_bmi_count += 1\n",
    "            equal_largest_beginning_bmi_count += 1\n",
    "            \n",
    "        # Calculate weight change\n",
    "        weight_change = end_weight - begin_weight\n",
    "        gender_weight_change[gender] += weight_change\n",
    "        gender_weight_change_count[gender] += 1\n",
    "\n",
    "# Determine which gender has the largest average beginning BMI\n",
    "if males > 0:\n",
    "    avg_male_bmi = male_bmi_sum / males\n",
    "else:\n",
    "    avg_male_bmi = 0\n",
    "\n",
    "if females > 0:\n",
    "    avg_female_bmi = female_bmi_sum / females\n",
    "else:\n",
    "    avg_female_bmi = 0\n",
    "\n",
    "# Determine which gender experienced the largest absolute average change in weight\n",
    "avg_weight_change_males = gender_weight_change['M'] / gender_weight_change_count['M']\n",
    "avg_weight_change_females = gender_weight_change['F'] / gender_weight_change_count['F']\n",
    "\n",
    "# Output the results\n",
    "print(\"1. The sample data contains more observations for\", \"males\" if males > females else \"females\")\n",
    "print(\"2. The gender with the largest average beginning BMI is:\", \"males\" if avg_male_bmi > avg_female_bmi else \"females\")\n",
    "print(\"3. Over the course of the school year, the gender with the largest absolute average change in weight is:\", \"males\" if avg_weight_change_males > avg_weight_change_females else \"females\")\n",
    "print(\"4. The number of observations with a beginning BMI equal to the largest beginning BMI is:\", equal_largest_beginning_bmi_count)\n"
   ]
  },
  {
   "cell_type": "markdown",
   "metadata": {
    "collapsed": false,
    "jupyter": {
     "outputs_hidden": false
    },
    "pycharm": {
     "name": "#%% md\n"
    }
   },
   "source": [
    "## CSV Question 2\n",
    "We said in class that although there is a published informational\n",
    " standard for the CSV file format, it is the most likely file format to\n",
    " deviate from the standard.\n",
    "\n",
    "Examine the code-cell below and the corresponding zillow_with_metadata.csv file.\n",
    "\n",
    "In the markdown following the code-cell,  write a description of what the python script in the\n",
    " following code-cell is doing. That is, I am\n",
    " asking you to reverse engineer the script and explain (in writing) its\n",
    " purpose.  This will require that you explore (and understand) the\n",
    " documentation for any functions used by the script.  For example, you\n",
    " will need to understand the role of the tell() and seek() functions in\n",
    " this script."
   ]
  },
  {
   "cell_type": "code",
   "execution_count": 2,
   "metadata": {
    "collapsed": false,
    "jupyter": {
     "outputs_hidden": false
    },
    "pycharm": {
     "name": "#%%\n"
    }
   },
   "outputs": [
    {
     "name": "stdout",
     "output_type": "stream",
     "text": [
      "51\n",
      "110\n",
      "137\n",
      "140\n",
      "140 hi\n",
      "Index,LivingSpace,Beds,Baths,Zip,Year,ListPrice\n",
      "1,2222,3,3.5,32312,1981,250000\n",
      "2,1628,3,2,32308,2009,185000\n",
      "3,3824,5,4,32312,1954,399000\n",
      "4,1137,3,2,32309,1993,150000\n",
      "5,3560,6,4,32309,1973,315000\n",
      "6,2893,4,3,32312,1994,699000\n",
      "7,3631,4,3,32309,1996,649000\n",
      "8,2483,4,3,32312,2016,399000\n",
      "9,2400,4,4,32312,2002,613000\n",
      "10,1997,3,3,32311,2006,295000\n",
      "11,2097,4,3,32311,2016,290000\n",
      "12,3200,5,4,32312,1964,465000\n",
      "13,4892,5,6,32311,2005,799900\n",
      "14,1128,2,1,32303,1955,89000\n",
      "15,1381,3,2,32301,2006,143000\n",
      "16,4242,4,5,32303,2007,569000\n",
      "17,2533,3,2,32310,1991,365000\n",
      "18,1158,3,2,32303,1993,155000\n",
      "19,2497,4,4,32309,1990,289000\n",
      "20,4010,5,3,32309,2002,549900\n"
     ]
    }
   ],
   "source": [
    "'''\n",
    "this script is designed to read a CSV file, ignore comment lines (lines starting with '#'),\n",
    "print the header row, and then print the data rows in a comma-separated format. \n",
    "It is useful when you want to process a CSV file with comments at the beginning,\n",
    "such as a metadata description, and extract and display the actual data from the CSV.\n",
    "'''\n",
    "\n",
    "#import the necessary Python libraries.\n",
    "import re\n",
    "import csv\n",
    "\n",
    "#specifies the name of the input CSV file\n",
    "in_file = 'zillow_with_metadata.csv'\n",
    "\n",
    "\n",
    "#compiling a RE pattern ignore_re that ignores matched lines starting with '#' and optional whitespace characters.\n",
    "ignore_re = re.compile(r'^\\s*#')\n",
    "\n",
    "#open a file with file handling\n",
    "with open(in_file, mode='r', newline='') as csv_file:\n",
    "\n",
    "    #reads lines from the CSV file one by one and \n",
    "    #checks if they match the ignore_re pattern \n",
    "    #(i.e., if they start with a '#' symbol and optional whitespace). \n",
    "    #This loop is designed to skip comment lines.\n",
    "\n",
    "    while ignore_re.search(csv_file.readline()):\n",
    "        #csv_file.tell() stores the current position within the file after the loop finishes. \n",
    "        #This position is the first line that is not a comment.\n",
    "        current_line_position = csv_file.tell()\n",
    "        print(current_line_position)\n",
    "\n",
    "    #seek() moves the file pointer back to the position where the actual CSV data starts, \n",
    "    #skipping the comment lines.\n",
    "    csv_file.seek( current_line_position )\n",
    "    print(current_line_position, \"hi\")\n",
    "    \n",
    "    #DictReader() creates a CSV DictReader object that reads the data from the CSV file. \n",
    "    #The first row of the CSV file is assumed to be the header row, containing field names.\n",
    "\n",
    "    csv_reader = csv.DictReader(csv_file)\n",
    "\n",
    "    #join() joins the header row of the CSV file, which contains the field names, separated by commas.\n",
    "    print(','.join(csv_reader.fieldnames))\n",
    "\n",
    "    #: iterating through the rows of data where each row is represented as a dictionary.\n",
    "    for row in csv_reader:\n",
    "\n",
    "        # join() converts each row's values to a comma-separated string\n",
    "        rowStr = ','.join(row.values())\n",
    "        print(rowStr) #prints each row as a comma-separated string\n",
    "\n",
    "\n"
   ]
  },
  {
   "cell_type": "markdown",
   "metadata": {
    "collapsed": false,
    "jupyter": {
     "outputs_hidden": false
    },
    "pycharm": {
     "name": "#%% md\n"
    }
   },
   "source": [
    "<Your Explanation Goes Here>"
   ]
  },
  {
   "cell_type": "markdown",
   "metadata": {
    "collapsed": false,
    "jupyter": {
     "outputs_hidden": false
    },
    "pycharm": {
     "name": "#%% md\n"
    }
   },
   "source": [
    "# JSON File Format\n",
    "## JSON Question 1\n",
    "The movies_db.json file contains movie related data including title,\n",
    " year, director and actors.\n",
    "\n",
    "Review the input file.  You'll note that the JSON data contains\n",
    " several nested objects.  For example, director, is an object that\n",
    " contains the name and birth year of the director.  actors is an array\n",
    " of actor objects that contain an actor's name, birth year and role.\n",
    "\n",
    "After deserialization of the JSON data, you can access nested\n",
    " attributes in many ways; however, the following approach is very common.\n",
    "\n",
    "```\n",
    "# Assume the JSON data has been deserialized into a Python list named movies.\n",
    "# Access director last name and actor's role.\n",
    "\n",
    "for movie in movies:\n",
    "    director_dict =  movie['director']\n",
    "    dir_last_nm = director_dict['last_name']\n",
    "    print( dir_last_nm )\n",
    "\n",
    "    actors_list = movie['actors']\n",
    "    for actor in actors_list:\n",
    "        print(actor['role'])\n",
    "```\n",
    "Author a program in the code-cell below to deserialize the movies_db.json\n",
    " input file and to answer the following questions.\n",
    "\n",
    "1. What is the total number of movies included the sample data?\n",
    "2. Which movie summary contains the most characters\n",
    "3. How many actors were born after 1970 and what were their last names?\n",
    "4. Which movie had the most actors\n",
    "5. Which actors played more than one role in a single movie?\n",
    "\n",
    "**Note:** For all of the questions, you may assume that an actor's\n",
    " last name is unique.  That is, there are no actors that have the same last name."
   ]
  },
  {
   "cell_type": "code",
   "execution_count": 3,
   "metadata": {
    "collapsed": false,
    "jupyter": {
     "outputs_hidden": false
    },
    "pycharm": {
     "name": "#%%\n"
    }
   },
   "outputs": [
    {
     "name": "stdout",
     "output_type": "stream",
     "text": [
      "1. Total number of movies: 5\n",
      "2. Movie with the longest summary:\n",
      "   Title: Unforgiven\n",
      "   Length of summary: 754\n",
      "3. Actors born after 1970 and their last names:\n",
      "   Last Name: Dunst\n",
      "   Last Name: Schwartzman\n",
      "   Last Name: Maguire\n",
      "   Last Name: Maguire\n",
      "   Last Name: Dunst\n",
      "   Last Name: Eisenberg\n",
      "   Last Name: Mara\n",
      "   Last Name: Garfield\n",
      "   Last Name: Timberlake\n",
      "4. Movie with the most actors:\n",
      "   Title: Spider-Man\n",
      "   Number of actors: 5\n",
      "5. Actors who played more than one role in a single movie:\n",
      "   Movie:  Spider-Man\n",
      "   Actor:  Kirsten Dunst\n",
      "   Roles:  ['Marie Antoinette', 'Mary Jane Watson']\n",
      "   Movie:  Spider-Man\n",
      "   Actor:  Tobey Maguire\n",
      "   Roles:  ['Peter Parker', 'Spider-Man']\n",
      "   Movie:  Spider-Man\n",
      "   Actor:  Willem Dafoe\n",
      "   Roles:  ['Green Goblin', 'Norman Osborn']\n"
     ]
    }
   ],
   "source": [
    "import json\n",
    "\n",
    "# Load the JSON data from the file\n",
    "with open('movies_db.json', 'r') as json_file:\n",
    "    movies = json.load(json_file)\n",
    "    \n",
    "# Question 1: Total number of movies\n",
    "total_movies = len(movies)\n",
    "print(\"1. Total number of movies:\", total_movies)\n",
    "\n",
    "# Question 2: Movie summary with the most characters\n",
    "longest_summary_movie = max(movies, key=lambda movie: len(movie['summary']))\n",
    "print(\"2. Movie with the longest summary:\")\n",
    "print(\"   Title:\", longest_summary_movie['title'])\n",
    "print(\"   Length of summary:\", len(longest_summary_movie['summary']))\n",
    "\n",
    "# Question 3: Actors born after 1970 and their last names\n",
    "actors_born_after_1970 = []\n",
    "for movie in movies:\n",
    "    actors_list = movie['actors']\n",
    "    for actor in actors_list:\n",
    "        birth_year = int(actor['birth_date'])\n",
    "        if birth_year > 1970:\n",
    "            actors_born_after_1970.append(actor['last_name'])\n",
    "\n",
    "print(\"3. Actors born after 1970 and their last names:\")\n",
    "for last_name in actors_born_after_1970:\n",
    "    print(\"   Last Name:\", last_name)\n",
    "\n",
    "# Question 4: Movie with the most actors\n",
    "movie_with_most_actors = max(movies, key=lambda movie: len(movie['actors']))\n",
    "print(\"4. Movie with the most actors:\")\n",
    "print(\"   Title:\", movie_with_most_actors['title'])\n",
    "print(\"   Number of actors:\", len(movie_with_most_actors['actors']))\n",
    "\n",
    "# Question 5: Actors who played more than one role in a single movie\n",
    "actors_multiple_roles = {}\n",
    "lmovies = {}\n",
    "for movie in movies:\n",
    "    actors_list = movie['actors']\n",
    "    for actor in actors_list:\n",
    "        actor_name =actor['first_name']+\" \"+ actor['last_name']\n",
    "        role = actor['role']\n",
    "        if actor_name in actors_multiple_roles:\n",
    "            actors_multiple_roles[actor_name].append(role)\n",
    "            lmovies[actor_name] = movie['title']\n",
    "        else:\n",
    "            actors_multiple_roles[actor_name] = [role]\n",
    "\n",
    "\n",
    "##DR: Solution answers a different question - which actors appear more than once in the JSON file.\n",
    "# The question asks about multiple roles in the same movie!\n",
    "\n",
    "print(\"5. Actors who played more than one role in a single movie:\")\n",
    "for actor, roles in actors_multiple_roles.items():\n",
    "    if len(roles) > 1:\n",
    "        print(\"   Movie: \", lmovies[actor])\n",
    "        print(\"   Actor: \", actor)\n",
    "        print(\"   Roles: \", roles)\n",
    "\n"
   ]
  },
  {
   "cell_type": "markdown",
   "metadata": {
    "collapsed": false,
    "jupyter": {
     "outputs_hidden": false
    },
    "pycharm": {
     "name": "#%% md\n"
    }
   },
   "source": [
    "# XML File Format\n",
    "## XML Question 1\n",
    "The CustomersOrders.xml file contains customer order related data. The\n",
    " top-level Root element contains two related child elements - Customers\n",
    " and Orders.  Customers are related to Orders via the CustomerID\n",
    " element.\n",
    "\n",
    "Review the input file.  You'll note that the XML data contains several\n",
    " nested nodes.  For example, FullAddress, is a complex element that\n",
    " contains address related data for each customer.  Similarly, ShipInfo\n",
    " is a complex element that contains shipping related information.\n",
    "\n",
    "After parsing the XML data, you can access nested element in many\n",
    " ways; however, the following approach is very common.\n",
    "\n",
    "```\n",
    "<Root>\n",
    "<Orders>\n",
    "    <Order>\n",
    "      <CustomerID>GREAL</CustomerID>\n",
    "      <ShipInfo ShippedDate=\"1997-05-09T00:00:00\">\n",
    "        <ShipPostalCode>97403</ShipPostalCode>\n",
    "      </ShipInfo>\n",
    "    </Order>\n",
    "</Orders>\n",
    "</Root>\n",
    "\n",
    "# assume we have the above XML data that has been parsed by ElementTree and whose root\n",
    "# element is available in the Python variable root.\n",
    "\n",
    "# To Find customer ids for Orders I find the list of Order elements\n",
    "# With in an Order, find the CustomerID element.\n",
    "# Once found the text attribute reveals the text value stored between\n",
    "# the <CustomerID> and </CustomerID> tags.\n",
    "#\n",
    "for order in root.findall(r\"./Orders/Order\"):\n",
    "    # find is used when I expect a single element by this name\n",
    "    # to be located \"under\" the Order element.\n",
    "\n",
    "    custId = order.find('CustomerID')\n",
    "    print(custId.text)\n",
    "\n",
    "    # Likewise, there exists a single ShipPostalCode element\n",
    "    zip = order.find(r\"./ShipInfo/ShipPostalCode\")\n",
    "    print(f'\\t{zip.text}')\n",
    "\n",
    "    # ShipDate is an attribute (not an element) in the ShipInfo element\n",
    "    sinfo = order.find(r\"./ShipInfo\")\n",
    "\n",
    "    # any attributes are returned as a dictionary\n",
    "    ship_info_attributes = sinfo.attrib\n",
    "\n",
    "    # Not all attributes are required\n",
    "    if 'ShippedDate' in  ship_info_attributes:\n",
    "        ship_date = ship_info_attributes['ShippedDate']\n",
    "        print(f'\\t{ship_date}')\n",
    "```\n",
    "\n",
    "Using the xml.etree.ElementTree module, author a program in the following code-cell\n",
    " to parse the CustomersOrders.xml file and to answer the following questions.\n",
    "\n",
    "1. How many customers (Customer elements) appear in the data?\n",
    "2. Considering only Customer elements, which PostalCode occurs most frequently?\n",
    "3. Which customer (by customer id and company name) has the most orders"
   ]
  },
  {
   "cell_type": "code",
   "execution_count": 4,
   "metadata": {
    "collapsed": false,
    "jupyter": {
     "outputs_hidden": false
    },
    "pycharm": {
     "name": "#%%\n"
    }
   },
   "outputs": [
    {
     "name": "stdout",
     "output_type": "stream",
     "text": [
      "1. Total number of customers: 4   {'LETSS', 'HUNGC', 'GREAL', 'LAZYK'}\n",
      "['Customer', 'CompanyName', 'ContactName', 'ContactTitle', 'Phone', 'FullAddress', 'Address', 'City', 'Region', 'PostalCode', 'Country']\n",
      "---------------------------------------------------------------------------------\n",
      "2. The most frequently occurring PostalCode: 97403\n",
      "---------------------------------------------------------------------------------\n",
      "{'GREAL': 11, 'HUNGC': 5, 'LAZYK': 2, 'LETSS': 4}\n",
      "3. Customer with the most orders:\n",
      "   Customer ID: GREAL\n",
      "   Company Name: Great Lakes Food Market\n",
      "   Number of Orders: 11\n"
     ]
    }
   ],
   "source": [
    "import xml.etree.ElementTree as ET\n",
    "\n",
    "# Parse the XML file\n",
    "tree = ET.parse('CustomersOrders.xml')\n",
    "root = tree.getroot()\n",
    "\n",
    "# Question 1: How many customers (Customer elements) appear in the data?\n",
    "\n",
    "customers = [c.text for c in root.findall(r'.Orders/Order/CustomerID')]\n",
    "print(\"1. Total number of customers:\", len(set(customers)), \" \" ,set(customers))\n",
    "tag = [t.tag for t in root.find(r'./Customers/Customer')] \n",
    "\n",
    "customer_tags = [ c.tag  for c in root.iter()][2: 13]\n",
    "print(customer_tags)\n",
    "print(\"---------------------------------------------------------------------------------\")\n",
    "\n",
    "# Question 2: Considering only Customer elements, which PostalCode occurs most frequently?\n",
    "postal_code_counts = {}\n",
    "for customer in root.findall('./Customers/Customer'):\n",
    "    postal_code_element = customer.find('FullAddress/PostalCode')\n",
    "    if postal_code_element is not None:\n",
    "        postal_code = postal_code_element.text\n",
    "        if postal_code in postal_code_counts:\n",
    "            postal_code_counts[postal_code] += 1\n",
    "        else:\n",
    "            postal_code_counts[postal_code] = 1\n",
    "\n",
    "most_frequent_postal_code = max(postal_code_counts, key=postal_code_counts.get)\n",
    "print(\"2. The most frequently occurring PostalCode:\", most_frequent_postal_code)\n",
    "print(\"---------------------------------------------------------------------------------\")\n",
    "# Question 3: Which customer (by customer id and company name) has the most orders?\n",
    "customer_orders_count = {}\n",
    "for order in root.findall('./Orders/Order'):\n",
    "    customer_id_element = order.find('CustomerID')\n",
    "    if customer_id_element is not None:\n",
    "        customer_id = customer_id_element.text\n",
    "        if customer_id in customer_orders_count:\n",
    "            customer_orders_count[customer_id] += 1\n",
    "        else:\n",
    "            customer_orders_count[customer_id] = 1\n",
    "print(customer_orders_count)\n",
    "most_orders_customer_id = max(customer_orders_count, key=customer_orders_count.get)\n",
    "\n",
    "\n",
    "for most_orders_customer in root.findall(f\"./Customers/Customer\"):\n",
    "    if most_orders_customer.attrib['CustomerID'] == most_orders_customer_id:\n",
    "        company_name = most_orders_customer.find('CompanyName').text\n",
    "        print(\"3. Customer with the most orders:\")\n",
    "        print(f\"   Customer ID: {most_orders_customer_id}\")\n",
    "        print(f\"   Company Name: {company_name}\")\n",
    "        print(f\"   Number of Orders: {customer_orders_count[most_orders_customer_id]}\")\n"
   ]
  },
  {
   "cell_type": "markdown",
   "metadata": {
    "collapsed": false,
    "jupyter": {
     "outputs_hidden": false
    },
    "pycharm": {
     "name": "#%% md\n"
    }
   },
   "source": [
    "# Deliverable\n",
    "Once you have completed the tasks above, upload your completed JNB to the\n",
    "Canvas Assignment item.\n"
   ]
  }
 ],
 "metadata": {
  "kernelspec": {
   "display_name": "Python 3 (ipykernel)",
   "language": "python",
   "name": "python3"
  },
  "language_info": {
   "codemirror_mode": {
    "name": "ipython",
    "version": 3
   },
   "file_extension": ".py",
   "mimetype": "text/x-python",
   "name": "python",
   "nbconvert_exporter": "python",
   "pygments_lexer": "ipython3",
   "version": "3.11.3"
  },
  "vscode": {
   "interpreter": {
    "hash": "0400823d55d45e049b5650d9f722273c95dfd46d59c82a1ad996971de83cf4d0"
   }
  }
 },
 "nbformat": 4,
 "nbformat_minor": 4
}
